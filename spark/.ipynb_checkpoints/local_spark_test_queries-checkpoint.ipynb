{
 "cells": [
  {
   "cell_type": "code",
   "execution_count": 1,
   "id": "be5faf96-b201-4280-a8bd-0ed8c76c8ba8",
   "metadata": {},
   "outputs": [],
   "source": [
    "import pyspark\n",
    "from pyspark.sql import SparkSession"
   ]
  },
  {
   "cell_type": "code",
   "execution_count": 2,
   "id": "929fc9a2-fcb0-4047-93bd-afdb05cebb74",
   "metadata": {},
   "outputs": [
    {
     "name": "stderr",
     "output_type": "stream",
     "text": [
      "Setting default log level to \"WARN\".\n",
      "To adjust logging level use sc.setLogLevel(newLevel). For SparkR, use setLogLevel(newLevel).\n"
     ]
    },
    {
     "name": "stdout",
     "output_type": "stream",
     "text": [
      "24/04/12 12:53:55 WARN NativeCodeLoader: Unable to load native-hadoop library for your platform... using builtin-java classes where applicable\n"
     ]
    }
   ],
   "source": [
    "spark = SparkSession.builder \\\n",
    "    .master(\"local[*]\") \\\n",
    "    .appName('fifa-transformation') \\\n",
    "    .getOrCreate()"
   ]
  },
  {
   "cell_type": "code",
   "execution_count": 3,
   "id": "a5a0f312-dc31-4ba2-a9c3-8af57542d444",
   "metadata": {},
   "outputs": [
    {
     "name": "stderr",
     "output_type": "stream",
     "text": [
      "                                                                                \r"
     ]
    },
    {
     "data": {
      "text/plain": [
       "['sofifa_id',\n",
       " 'short_name',\n",
       " 'overall',\n",
       " 'age',\n",
       " 'dob',\n",
       " 'height_cm',\n",
       " 'weight_kg',\n",
       " 'nationality_name',\n",
       " 'club_name',\n",
       " 'league_name',\n",
       " 'league_level',\n",
       " 'potential',\n",
       " 'value_eur',\n",
       " 'wage_eur',\n",
       " 'player_positions',\n",
       " 'gender',\n",
       " 'unique_id',\n",
       " 'version']"
      ]
     },
     "execution_count": 3,
     "metadata": {},
     "output_type": "execute_result"
    }
   ],
   "source": [
    "df = spark.read.option(\"basePath\", \"dataset/\").parquet('dataset/*/*')\n",
    "df.columns"
   ]
  },
  {
   "cell_type": "code",
   "execution_count": 4,
   "id": "7a9e7ae6-2806-46ca-867c-3f899892d4e2",
   "metadata": {},
   "outputs": [
    {
     "name": "stdout",
     "output_type": "stream",
     "text": [
      "(144323, 18)\n",
      "+---------+-------------+-------+---+-------------------+---------+---------+----------------+---------+-----------+------------+---------+---------+--------+----------------+------+-----------+-------+\n",
      "|sofifa_id|   short_name|overall|age|                dob|height_cm|weight_kg|nationality_name|club_name|league_name|league_level|potential|value_eur|wage_eur|player_positions|gender|  unique_id|version|\n",
      "+---------+-------------+-------+---+-------------------+---------+---------+----------------+---------+-----------+------------+---------+---------+--------+----------------+------+-----------+-------+\n",
      "|   227246|    L. Bronze|     92| 29|1991-10-28 00:00:00|      171|       67|         England|  unknown|       null|        null|       92|     null|    null|          RB, CM|female|25769820906|     22|\n",
      "|   227316|    W. Renard|     92| 30|1990-07-20 00:00:00|      187|       70|          France|  unknown|       null|        null|       92|     null|    null|              CB|female|25769820907|     22|\n",
      "|   233746|   V. Miedema|     92| 24|1996-07-15 00:00:00|      178|       65|     Netherlands|  unknown|       null|        null|       93|     null|    null|              ST|female|25769820908|     22|\n",
      "|   227125|      S. Kerr|     91| 27|1993-09-10 00:00:00|      167|       55|       Australia|  unknown|       null|        null|       91|     null|    null|          ST, LW|female|25769820909|     22|\n",
      "|   226301|    A. Morgan|     90| 31|1989-07-02 00:00:00|      170|       62|   United States|  unknown|       null|        null|       90|     null|    null|              ST|female|25769820910|     22|\n",
      "|   226308|  D. Marozsán|     90| 29|1992-04-18 00:00:00|      171|       67|         Germany|  unknown|       null|        null|       90|     null|    null|     CAM, LM, CM|female|25769820911|     22|\n",
      "|   226328|   M. Rapinoe|     90| 35|1985-07-05 00:00:00|      170|       60|   United States|  unknown|       null|        null|       90|     null|    null|          LW, LM|female|25769820912|     22|\n",
      "|   226330|     T. Heath|     90| 33|1988-05-29 00:00:00|      168|       59|   United States|  unknown|       null|        null|       90|     null|    null|     RW, CAM, LW|female|25769820913|     22|\n",
      "|   227102|    C. Hansen|     90| 26|1995-02-18 00:00:00|      178|       66|          Norway|  unknown|       null|        null|       91|     null|    null|     RM, CAM, ST|female|25769820914|     22|\n",
      "|   227318|     A. Henry|     90| 31|1989-09-28 00:00:00|      171|       64|          France|  unknown|       null|        null|       90|     null|    null|         CDM, CM|female|25769820915|     22|\n",
      "|   226333|      J. Ertz|     89| 29|1992-04-06 00:00:00|      170|       59|   United States|  unknown|       null|        null|       89|     null|    null|         CDM, CB|female|25769820916|     22|\n",
      "|   226359|  C. Sinclair|     89| 38|1983-06-12 00:00:00|      175|       67|          Canada|  unknown|       null|        null|       89|     null|    null|         ST, CAM|female|25769820917|     22|\n",
      "|   227331| E. Le Sommer|     89| 32|1989-05-18 00:00:00|      161|       58|          France|  unknown|       null|        null|       89|     null|    null|     ST, LW, CAM|female|25769820918|     22|\n",
      "|   233748|   L. Martens|     89| 28|1992-12-16 00:00:00|      170|       66|     Netherlands|  unknown|       null|        null|       89|     null|    null|         LW, CAM|female|25769820919|     22|\n",
      "|   226177|B. Sauerbrunn|     88| 36|1985-06-06 00:00:00|      170|       64|   United States|  unknown|       null|        null|       88|     null|    null|          CB, RB|female|25769820920|     22|\n",
      "|   226302|      A. Popp|     88| 30|1991-04-06 00:00:00|      174|       65|         Germany|  unknown|       null|        null|       88|     null|    null|          ST, LM|female|25769820921|     22|\n",
      "|   227255|     F. Kirby|     88| 28|1993-06-29 00:00:00|      157|       53|         England|  unknown|       null|        null|       88|     null|    null|     CAM, ST, CM|female|25769820922|     22|\n",
      "|   227192|Jenni Hermoso|     87| 31|1990-05-09 00:00:00|      174|       59|           Spain|  unknown|       null|        null|       87|     null|    null|     ST, CAM, CF|female|25769820923|     22|\n",
      "|   227327|   S. Däbritz|     87| 26|1995-02-15 00:00:00|      171|       59|         Germany|  unknown|       null|        null|       89|     null|    null|     CM, LM, CAM|female|25769820924|     22|\n",
      "|   227350|     A. Majri|     87| 28|1993-01-25 00:00:00|      164|       54|          France|  unknown|       null|        null|       87|     null|    null|          LM, LB|female|25769820925|     22|\n",
      "+---------+-------------+-------+---+-------------------+---------+---------+----------------+---------+-----------+------------+---------+---------+--------+----------------+------+-----------+-------+\n",
      "only showing top 20 rows\n",
      "\n"
     ]
    }
   ],
   "source": [
    "print((df.count(), len(df.columns)))\n",
    "df.show()"
   ]
  },
  {
   "cell_type": "code",
   "execution_count": 5,
   "id": "d51fe164-3954-41b4-a731-eacb81101598",
   "metadata": {},
   "outputs": [
    {
     "name": "stdout",
     "output_type": "stream",
     "text": [
      "+-------+------+-----+\n",
      "|version|gender|count|\n",
      "+-------+------+-----+\n",
      "|     15|  male|16155|\n",
      "|     16|female|  248|\n",
      "|     16|  male|15623|\n",
      "|     17|female|  299|\n",
      "|     17|  male|17596|\n",
      "|     18|female|  317|\n",
      "|     18|  male|17954|\n",
      "|     19|female|  299|\n",
      "|     19|  male|18085|\n",
      "|     20|female|  345|\n",
      "|     20|  male|18483|\n",
      "|     21|female|  345|\n",
      "|     21|  male|18944|\n",
      "|     22|female|  391|\n",
      "|     22|  male|19239|\n",
      "+-------+------+-----+\n",
      "\n"
     ]
    }
   ],
   "source": [
    "# TOTAL PLAYERS IN EACH FIFA BY GENDER\n",
    "\n",
    "df.groupby('version', 'gender').count().orderBy('version', 'gender').show() "
   ]
  },
  {
   "cell_type": "code",
   "execution_count": 7,
   "id": "4752d5f1-76c5-4068-9c5e-94c9118da89e",
   "metadata": {},
   "outputs": [
    {
     "name": "stdout",
     "output_type": "stream",
     "text": [
      "+-------+------+-------+-----+\n",
      "|version|gender|overall|count|\n",
      "+-------+------+-------+-----+\n",
      "|     18|  male|     91|    1|\n",
      "|     20|female|     93|    1|\n",
      "|     22|female|     92|    3|\n",
      "|     20|female|     92|    2|\n",
      "|     18|female|     91|    1|\n",
      "|     20|  male|     94|    1|\n",
      "|     22|  male|     92|    1|\n",
      "|     22|female|     91|    1|\n",
      "|     20|  male|     92|    1|\n",
      "|     20|female|     91|    3|\n",
      "|     18|female|     92|    1|\n",
      "|     20|  male|     93|    1|\n",
      "|     18|  male|     94|    1|\n",
      "|     22|  male|     91|    5|\n",
      "|     22|  male|     93|    1|\n",
      "|     18|  male|     93|    1|\n",
      "|     18|  male|     92|    3|\n",
      "|     20|  male|     91|    3|\n",
      "|     21|  male|     91|    4|\n",
      "|     21|  male|     93|    1|\n",
      "+-------+------+-------+-----+\n",
      "only showing top 20 rows\n",
      "\n"
     ]
    }
   ],
   "source": [
    "# Display the players with overall score > 90 for each fifa\n",
    "\n",
    "df.groupby('version', 'gender', 'overall').count().filter(\"overall > 90\").show()"
   ]
  },
  {
   "cell_type": "code",
   "execution_count": 8,
   "id": "2fa83988-f5e5-4f56-9cf0-beb85e163266",
   "metadata": {},
   "outputs": [],
   "source": [
    "# Create temp views for queries\n",
    "df.createOrReplaceTempView(\"fifa\")"
   ]
  },
  {
   "cell_type": "code",
   "execution_count": 9,
   "id": "e9b7781e-555d-4ffd-8951-ae8a5c505082",
   "metadata": {},
   "outputs": [
    {
     "name": "stdout",
     "output_type": "stream",
     "text": [
      "+-------+-----------------+-------+\n",
      "|version|       short_name|overall|\n",
      "+-------+-----------------+-------+\n",
      "|     15|         L. Messi|     93|\n",
      "|     16|         L. Messi|     94|\n",
      "|     17|Cristiano Ronaldo|     94|\n",
      "|     18|Cristiano Ronaldo|     94|\n",
      "|     19|Cristiano Ronaldo|     94|\n",
      "|     19|         L. Messi|     94|\n",
      "|     20|         L. Messi|     94|\n",
      "|     21|       M. Rapinoe|     93|\n",
      "|     21|         L. Messi|     93|\n",
      "|     22|         L. Messi|     93|\n",
      "+-------+-----------------+-------+\n",
      "\n"
     ]
    }
   ],
   "source": [
    "# TOP PLAYER IN EACH FIFA\n",
    "\n",
    "df_top_players = spark.sql(\"\"\"\n",
    "\n",
    "SELECT version, short_name, overall\n",
    "FROM fifa WHERE (version,overall) IN\n",
    "( SELECT version, MAX(overall)\n",
    "  FROM fifa\n",
    "  GROUP BY version\n",
    ")\n",
    "ORDER BY version\n",
    "\n",
    "\"\"\")\n",
    "\n",
    "\n",
    "df_top_players.show()"
   ]
  },
  {
   "cell_type": "code",
   "execution_count": 37,
   "id": "901c386e-bee5-4317-995b-8e12a615e87c",
   "metadata": {},
   "outputs": [
    {
     "name": "stdout",
     "output_type": "stream",
     "text": [
      "+-------+-------------------+------------+\n",
      "|version|          club_name|sum(overall)|\n",
      "+-------+-------------------+------------+\n",
      "|     17|     Real Madrid CF|         967|\n",
      "|     17|  FC Bayern München|         965|\n",
      "|     17|       FC Barcelona|         964|\n",
      "|     17|           Juventus|         945|\n",
      "|     17|    Manchester City|         936|\n",
      "|     17|            Chelsea|         935|\n",
      "|     17|  Manchester United|         934|\n",
      "|     17|            Arsenal|         933|\n",
      "|     17|Paris Saint-Germain|         933|\n",
      "|     17| Atlético de Madrid|         930|\n",
      "+-------+-------------------+------------+\n",
      "only showing top 10 rows\n",
      "\n"
     ]
    }
   ],
   "source": [
    "from pyspark.sql.window import Window\n",
    "from pyspark.sql.functions import rank, col, row_number\n",
    "\n",
    "# Transformation to get, for a specific version and gender, sum of the top 11 players for each team\n",
    "df_fifa_n = df.where((col('version') == 17) & (col('gender') == 'male'))\n",
    "\n",
    "n = 11\n",
    "df_best11_per_team = df_fifa_n.select(col('*'), row_number().over(window).alias('club_num')) \\\n",
    "    .where(col('club_num') <= n)\n",
    "\n",
    "df_best11_per_team = df_best11_per_team.groupBy('version', 'club_name').sum('overall').orderBy('sum(overall)', ascending=False).show(10)\n",
    "\n",
    "# df_best5_per_teams.select(['club_name', 'league_name', 'short_name', 'overall', 'gender', 'version']).show(500)"
   ]
  },
  {
   "cell_type": "code",
   "execution_count": 39,
   "id": "bbcb7185-0616-4a23-b5b6-9bb11e8d263c",
   "metadata": {},
   "outputs": [
    {
     "name": "stdout",
     "output_type": "stream",
     "text": [
      "+-------+-----------------+--------+\n",
      "|version|       short_name|wage_eur|\n",
      "+-------+-----------------+--------+\n",
      "|     15|         L. Messi|  550000|\n",
      "|     16|         L. Messi|  550000|\n",
      "|     17|         L. Messi|  575000|\n",
      "|     17|Cristiano Ronaldo|  575000|\n",
      "|     18|         L. Messi|  575000|\n",
      "|     18|Cristiano Ronaldo|  575000|\n",
      "|     19|         L. Messi|  575000|\n",
      "|     20|         L. Messi|  560000|\n",
      "|     21|         L. Messi|  560000|\n",
      "|     22|     K. De Bruyne|  350000|\n",
      "|     22|       K. Benzema|  350000|\n",
      "+-------+-----------------+--------+\n",
      "\n"
     ]
    }
   ],
   "source": [
    "# Top wage year by year\n",
    "\n",
    "df_top_players = spark.sql(\"\"\"\n",
    "\n",
    "SELECT version, short_name, wage_eur\n",
    "FROM fifa WHERE (version, wage_eur) IN\n",
    "( SELECT version, MAX(wage_eur)\n",
    "  FROM fifa\n",
    "  GROUP BY version\n",
    ")\n",
    "ORDER BY version\n",
    "\n",
    "\"\"\")\n",
    "\n",
    "\n",
    "df_top_players.show()"
   ]
  },
  {
   "cell_type": "code",
   "execution_count": 58,
   "id": "97feb81c-b066-41e6-a0b6-5d9bc760a468",
   "metadata": {},
   "outputs": [
    {
     "name": "stdout",
     "output_type": "stream",
     "text": [
      "+-------+--------+-----------------+\n",
      "|version|wage_eur|       short_name|\n",
      "+-------+--------+-----------------+\n",
      "|     17|  575000|Cristiano Ronaldo|\n",
      "|     17|  575000|         L. Messi|\n",
      "|     17|  525000|        L. Suárez|\n",
      "|     17|  450000|           Neymar|\n",
      "|     17|  375000|          G. Bale|\n",
      "|     17|  325000|          Iniesta|\n",
      "|     17|  325000|        S. Agüero|\n",
      "|     17|  325000|        L. Modrić|\n",
      "|     17|  325000|         T. Kroos|\n",
      "|     17|  300000|   Z. Ibrahimović|\n",
      "+-------+--------+-----------------+\n",
      "\n"
     ]
    }
   ],
   "source": [
    "# Top n wages for a certain year\n",
    "\n",
    "df_top_players = spark.sql(\"\"\"\n",
    "\n",
    "SELECT version, wage_eur, short_name\n",
    "FROM fifa \n",
    "WHERE version = 17\n",
    "ORDER BY wage_eur DESC\n",
    "LIMIT 10;\n",
    " \"\"\")\n",
    "\n",
    "\n",
    "df_top_players.show()"
   ]
  },
  {
   "cell_type": "code",
   "execution_count": 61,
   "id": "433f5515-0c51-4cbd-bfad-afd12cdbdfa7",
   "metadata": {},
   "outputs": [
    {
     "name": "stdout",
     "output_type": "stream",
     "text": [
      "+-------+--------+-----------------+\n",
      "|version|wage_eur|       short_name|\n",
      "+-------+--------+-----------------+\n",
      "|     17|  575000|Cristiano Ronaldo|\n",
      "|     17|  575000|         L. Messi|\n",
      "|     17|  225000|         M. Neuer|\n",
      "|     17|  525000|        L. Suárez|\n",
      "|     17|  450000|           Neymar|\n",
      "|     17|    null|         C. Lloyd|\n",
      "|     17|    null|       M. Rapinoe|\n",
      "|     17|  300000|   Z. Ibrahimović|\n",
      "|     17|  250000|   R. Lewandowski|\n",
      "|     17|  200000|       J. Boateng|\n",
      "+-------+--------+-----------------+\n",
      "\n"
     ]
    }
   ],
   "source": [
    "# Top n wages for a certain year\n",
    "\n",
    "df_top_players_by_year = spark.sql(\"\"\"\n",
    "\n",
    "SELECT version, wage_eur, short_name\n",
    "FROM fifa \n",
    "WHERE version = 17\n",
    "ORDER BY overall DESC\n",
    "LIMIT 10;\n",
    " \"\"\").show()\n",
    "\n",
    "df.createOrReplaceTempView(\"top_players_year\")\n",
    "\n",
    "spark.sql(\"\"\"\n",
    "SELECT SUM\n",
    "FROM top_players_year \n",
    "WHERE version = 17\n",
    "ORDER BY overall DESC\n",
    "LIMIT 10;\n",
    " \"\"\")\n",
    "\n",
    "df_top_players.show()"
   ]
  },
  {
   "cell_type": "code",
   "execution_count": null,
   "id": "b3d7aa3b-cf02-42e6-b145-8290527f59cc",
   "metadata": {},
   "outputs": [],
   "source": [
    "spark.stop()"
   ]
  }
 ],
 "metadata": {
  "kernelspec": {
   "display_name": "Python 3 (ipykernel)",
   "language": "python",
   "name": "python3"
  },
  "language_info": {
   "codemirror_mode": {
    "name": "ipython",
    "version": 3
   },
   "file_extension": ".py",
   "mimetype": "text/x-python",
   "name": "python",
   "nbconvert_exporter": "python",
   "pygments_lexer": "ipython3",
   "version": "3.11.5"
  }
 },
 "nbformat": 4,
 "nbformat_minor": 5
}
