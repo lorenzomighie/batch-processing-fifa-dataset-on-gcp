{
 "cells": [
  {
   "cell_type": "code",
   "execution_count": 1,
   "id": "c443f043-8dfb-46c4-9565-cbdab9c8213c",
   "metadata": {},
   "outputs": [],
   "source": [
    "import pyspark\n",
    "from pyspark.sql import SparkSession"
   ]
  },
  {
   "cell_type": "code",
   "execution_count": 2,
   "id": "045b2b9d-b745-41f0-8f6a-db19a57d47eb",
   "metadata": {},
   "outputs": [
    {
     "name": "stderr",
     "output_type": "stream",
     "text": [
      "Setting default log level to \"WARN\".\n",
      "To adjust logging level use sc.setLogLevel(newLevel). For SparkR, use setLogLevel(newLevel).\n"
     ]
    },
    {
     "name": "stdout",
     "output_type": "stream",
     "text": [
      "24/04/12 09:43:05 WARN NativeCodeLoader: Unable to load native-hadoop library for your platform... using builtin-java classes where applicable\n",
      "24/04/12 09:43:06 WARN Utils: Service 'SparkUI' could not bind on port 4040. Attempting port 4041.\n"
     ]
    }
   ],
   "source": [
    "spark = SparkSession.builder \\\n",
    "    .master(\"local[*]\") \\\n",
    "    .appName('fifa-transformation') \\\n",
    "    .getOrCreate()"
   ]
  },
  {
   "cell_type": "code",
   "execution_count": 3,
   "id": "98e91449-ed7c-47a0-8144-5ec75595d84d",
   "metadata": {},
   "outputs": [
    {
     "name": "stderr",
     "output_type": "stream",
     "text": [
      "                                                                                \r"
     ]
    }
   ],
   "source": [
    "df_male = spark.read.option(\"header\", \"true\").option(\"inferSchema\", \"true\").csv('fifa-dataset-male.csv')\n",
    "df_female = spark.read.option(\"header\", \"true\").option(\"inferSchema\", \"true\").csv('fifa-dataset-female.csv')"
   ]
  },
  {
   "cell_type": "code",
   "execution_count": 4,
   "id": "3cab8623-7423-45f4-a466-b1c712c69428",
   "metadata": {},
   "outputs": [
    {
     "name": "stdout",
     "output_type": "stream",
     "text": [
      "24/04/12 09:43:37 WARN package: Truncated the string representation of a plan since it was too large. This behavior can be adjusted by setting 'spark.sql.debug.maxToStringFields'.\n",
      "24/04/12 09:43:37 WARN CSVHeaderChecker: CSV header does not conform to the schema.\n",
      " Header: , sofifa_id, player_url, short_name, long_name, player_positions, overall, potential, value_eur, wage_eur, age, dob, height_cm, weight_kg, club_team_id, club_name, league_name, league_level, club_position, club_jersey_number, club_loaned_from, club_joined, club_contract_valid_until, nationality_id, nationality_name, nation_team_id, nation_position, nation_jersey_number, preferred_foot, weak_foot, skill_moves, international_reputation, work_rate, body_type, real_face, release_clause_eur, player_tags, player_traits, pace, shooting, passing, dribbling, defending, physic, attacking_crossing, attacking_finishing, attacking_heading_accuracy, attacking_short_passing, attacking_volleys, skill_dribbling, skill_curve, skill_fk_accuracy, skill_long_passing, skill_ball_control, movement_acceleration, movement_sprint_speed, movement_agility, movement_reactions, movement_balance, power_shot_power, power_jumping, power_stamina, power_strength, power_long_shots, mentality_aggression, mentality_interceptions, mentality_positioning, mentality_vision, mentality_penalties, mentality_composure, defending_marking_awareness, defending_standing_tackle, defending_sliding_tackle, goalkeeping_diving, goalkeeping_handling, goalkeeping_kicking, goalkeeping_positioning, goalkeeping_reflexes, goalkeeping_speed, ls, st, rs, lw, lf, cf, rf, rw, lam, cam, ram, lm, lcm, cm, rcm, rm, lwb, ldm, cdm, rdm, rwb, lb, lcb, cb, rcb, rb, gk, player_face_url, club_logo_url, club_flag_url, nation_logo_url, nation_flag_url, version\n",
      " Schema: _c0, sofifa_id, player_url, short_name, long_name, player_positions, overall, potential, value_eur, wage_eur, age, dob, height_cm, weight_kg, club_team_id, club_name, league_name, league_level, club_position, club_jersey_number, club_loaned_from, club_joined, club_contract_valid_until, nationality_id, nationality_name, nation_team_id, nation_position, nation_jersey_number, preferred_foot, weak_foot, skill_moves, international_reputation, work_rate, body_type, real_face, release_clause_eur, player_tags, player_traits, pace, shooting, passing, dribbling, defending, physic, attacking_crossing, attacking_finishing, attacking_heading_accuracy, attacking_short_passing, attacking_volleys, skill_dribbling, skill_curve, skill_fk_accuracy, skill_long_passing, skill_ball_control, movement_acceleration, movement_sprint_speed, movement_agility, movement_reactions, movement_balance, power_shot_power, power_jumping, power_stamina, power_strength, power_long_shots, mentality_aggression, mentality_interceptions, mentality_positioning, mentality_vision, mentality_penalties, mentality_composure, defending_marking_awareness, defending_standing_tackle, defending_sliding_tackle, goalkeeping_diving, goalkeeping_handling, goalkeeping_kicking, goalkeeping_positioning, goalkeeping_reflexes, goalkeeping_speed, ls, st, rs, lw, lf, cf, rf, rw, lam, cam, ram, lm, lcm, cm, rcm, rm, lwb, ldm, cdm, rdm, rwb, lb, lcb, cb, rcb, rb, gk, player_face_url, club_logo_url, club_flag_url, nation_logo_url, nation_flag_url, version\n",
      "Expected: _c0 but found: \n",
      "CSV file: file:///home/lorenz-gcp/batch-processing-fifa-dataset-on-gcp/spark/fifa-dataset-male.csv\n"
     ]
    },
    {
     "data": {
      "text/plain": [
       "Row(_c0=0, sofifa_id=158023, player_url='https://sofifa.com/player/158023/lionel-messi/150002', short_name='L. Messi', long_name='Lionel Andrés Messi Cuccittini', player_positions='CF', overall=93, potential=95, value_eur=100500000, wage_eur=550000, age=27, dob=datetime.datetime(1987, 6, 24, 0, 0), height_cm=169, weight_kg=67, club_team_id=241.0, club_name='FC Barcelona', league_name='Spain Primera Division', league_level=1.0, club_position='CF', club_jersey_number=10.0, club_loaned_from=None, club_joined=datetime.datetime(2004, 7, 1, 0, 0), club_contract_valid_until=2018.0, nationality_id=52, nationality_name='Argentina', nation_team_id=1369.0, nation_position='CF', nation_jersey_number=10.0, preferred_foot='Left', weak_foot=3, skill_moves=4, international_reputation=5, work_rate='Medium/Low', body_type='Normal (170-)', real_face='Yes', release_clause_eur=None, player_tags='#Speedster, #Dribbler, #FK Specialist, #Acrobat, #Clinical Finisher, #Complete Forward', player_traits='Finesse Shot, Speed Dribbler (AI), One Club Player, Team Player', pace=93.0, shooting=89.0, passing=86.0, dribbling=96.0, defending=27.0, physic=63.0, attacking_crossing=84, attacking_finishing=94, attacking_heading_accuracy=71, attacking_short_passing=89, attacking_volleys=85, skill_dribbling=96, skill_curve=89, skill_fk_accuracy=90, skill_long_passing=76, skill_ball_control=96, movement_acceleration=96, movement_sprint_speed=90, movement_agility=94, movement_reactions=94, movement_balance=95, power_shot_power=80, power_jumping=73, power_stamina=77, power_strength=60, power_long_shots=88, mentality_aggression=48, mentality_interceptions=22, mentality_positioning=92, mentality_vision=90, mentality_penalties=76, mentality_composure=None, defending_marking_awareness=25, defending_standing_tackle=21, defending_sliding_tackle=20, goalkeeping_diving=6, goalkeeping_handling=11, goalkeeping_kicking=15, goalkeeping_positioning=14, goalkeeping_reflexes=8, goalkeeping_speed=None, ls='89+3', st='89+3', rs='89+3', lw='92+3', lf='90+3', cf='90+3', rf='90+3', rw='92+3', lam='92+3', cam='92+3', ram='92+3', lm='90+3', lcm='79+3', cm='79+3', rcm='79+3', rm='90+3', lwb='62+3', ldm='62+3', cdm='62+3', rdm='62+3', rwb='62+3', lb='54+3', lcb='45+3', cb='45+3', rcb='45+3', rb='54+3', gk='15+3', player_face_url='https://cdn.sofifa.net/players/158/023/15_120.png', club_logo_url='https://cdn.sofifa.net/teams/241/60.png', club_flag_url='https://cdn.sofifa.net/flags/es.png', nation_logo_url='https://cdn.sofifa.net/teams/1369/60.png', nation_flag_url='https://cdn.sofifa.net/flags/ar.png', version=15)"
      ]
     },
     "execution_count": 4,
     "metadata": {},
     "output_type": "execute_result"
    }
   ],
   "source": [
    "df_male.head()\n",
    "# df_female.head()"
   ]
  },
  {
   "cell_type": "code",
   "execution_count": 8,
   "id": "6218671d-53a0-4def-94ea-66e7b62cbf33",
   "metadata": {},
   "outputs": [],
   "source": [
    "# Select only columns of interest\n",
    "\n",
    "columns_to_keep = [\n",
    "        'sofifa_id',\n",
    "        'version',\n",
    "        'short_name',\n",
    "        'overall',\n",
    "        'age',\n",
    "        'dob',\n",
    "        'height_cm',\n",
    "        'weight_kg',\n",
    "        'nationality_name',\n",
    "        'club_name',\n",
    "        'league_name',\n",
    "        'league_level',\n",
    "        'potential',\n",
    "        'value_eur',\n",
    "        'wage_eur',\n",
    "        'player_positions'\n",
    "]\n",
    "\n",
    "df_male_select = df_male.select(columns_to_keep)\n",
    "df_female_select = df_female.select(columns_to_keep)\n",
    "    "
   ]
  },
  {
   "cell_type": "code",
   "execution_count": 9,
   "id": "083d7c13-e851-4ae3-a21a-0ae1f3019cb1",
   "metadata": {},
   "outputs": [
    {
     "name": "stdout",
     "output_type": "stream",
     "text": [
      "+---------+-------+-----------------+-------+---+-------------------+---------+---------+----------------+-------------------+--------------------+------------+---------+---------+--------+----------------+\n",
      "|sofifa_id|version|       short_name|overall|age|                dob|height_cm|weight_kg|nationality_name|          club_name|         league_name|league_level|potential|value_eur|wage_eur|player_positions|\n",
      "+---------+-------+-----------------+-------+---+-------------------+---------+---------+----------------+-------------------+--------------------+------------+---------+---------+--------+----------------+\n",
      "|   158023|     15|         L. Messi|     93| 27|1987-06-24 00:00:00|      169|       67|       Argentina|       FC Barcelona|Spain Primera Div...|         1.0|       95|100500000|  550000|              CF|\n",
      "|    20801|     15|Cristiano Ronaldo|     92| 29|1985-02-05 00:00:00|      185|       80|        Portugal|     Real Madrid CF|Spain Primera Div...|         1.0|       92| 79000000|  375000|          LW, LM|\n",
      "|     9014|     15|        A. Robben|     90| 30|1984-01-23 00:00:00|      180|       80|     Netherlands|  FC Bayern München|German 1. Bundesliga|         1.0|       90| 54500000|  275000|      RM, LM, RW|\n",
      "|    41236|     15|   Z. Ibrahimović|     90| 32|1981-10-03 00:00:00|      195|       95|          Sweden|Paris Saint-Germain|      French Ligue 1|         1.0|       90| 52500000|  275000|              ST|\n",
      "|   167495|     15|         M. Neuer|     90| 28|1986-03-27 00:00:00|      193|       92|         Germany|  FC Bayern München|German 1. Bundesliga|         1.0|       90| 63500000|  300000|              GK|\n",
      "|       41|     15|          Iniesta|     89| 30|1984-05-11 00:00:00|      170|       65|           Spain|       FC Barcelona|Spain Primera Div...|         1.0|       89| 36000000|  250000|          CM, LW|\n",
      "|   176580|     15|        L. Suárez|     89| 27|1987-01-24 00:00:00|      181|       81|         Uruguay|       FC Barcelona|Spain Primera Div...|         1.0|       91| 49500000|  300000|          ST, CF|\n",
      "|     7826|     15|    R. van Persie|     88| 30|1983-08-06 00:00:00|      187|       71|     Netherlands|  Manchester United|English Premier L...|         1.0|       88| 40500000|  230000|              ST|\n",
      "|   121944|     15|B. Schweinsteiger|     88| 29|1984-08-01 00:00:00|      183|       79|         Germany|  FC Bayern München|German 1. Bundesliga|         1.0|       88| 39000000|  200000|         CM, CDM|\n",
      "|   156616|     15|        F. Ribéry|     88| 31|1983-04-07 00:00:00|      170|       72|          France|  FC Bayern München|German 1. Bundesliga|         1.0|       88| 33000000|  200000|              LM|\n",
      "|   167397|     15|           Falcao|     88| 28|1986-02-10 00:00:00|      177|       72|        Colombia|  Manchester United|English Premier L...|         1.0|       88| 46500000|  250000|              ST|\n",
      "|   183277|     15|        E. Hazard|     88| 23|1991-01-07 00:00:00|      173|       74|         Belgium|            Chelsea|English Premier L...|         1.0|       90| 40500000|  210000|          LM, RM|\n",
      "|   121939|     15|          P. Lahm|     87| 30|1983-11-11 00:00:00|      170|       66|         Germany|  FC Bayern München|German 1. Bundesliga|         1.0|       87| 24500000|  190000|     CDM, RB, CM|\n",
      "|   155862|     15|     Sergio Ramos|     87| 28|1986-03-30 00:00:00|      183|       75|           Spain|     Real Madrid CF|Spain Primera Div...|         1.0|       87| 31500000|  220000|              CB|\n",
      "|   164240|     15|     Thiago Silva|     87| 29|1984-09-22 00:00:00|      183|       79|          Brazil|Paris Saint-Germain|      French Ligue 1|         1.0|       87| 29000000|  190000|              CB|\n",
      "|   168542|     15|      David Silva|     87| 28|1986-01-08 00:00:00|      170|       67|           Spain|    Manchester City|English Premier L...|         1.0|       87| 36500000|  220000|         LM, CAM|\n",
      "|   173731|     15|          G. Bale|     87| 24|1989-07-16 00:00:00|      183|       74|           Wales|     Real Madrid CF|Spain Primera Div...|         1.0|       91| 39000000|  200000|          RM, RW|\n",
      "|   177003|     15|        L. Modrić|     87| 28|1985-09-09 00:00:00|      174|       65|         Croatia|     Real Madrid CF|Spain Primera Div...|         1.0|       87| 36500000|  220000|         CM, CDM|\n",
      "|   188545|     15|   R. Lewandowski|     87| 25|1988-08-21 00:00:00|      184|       78|          Poland|  FC Bayern München|German 1. Bundesliga|         1.0|       89| 44000000|  210000|          ST, CF|\n",
      "|    10535|     15|             Xavi|     86| 34|1980-01-25 00:00:00|      170|       68|           Spain|       FC Barcelona|Spain Primera Div...|         1.0|       86| 15500000|  160000|              CM|\n",
      "+---------+-------+-----------------+-------+---+-------------------+---------+---------+----------------+-------------------+--------------------+------------+---------+---------+--------+----------------+\n",
      "only showing top 20 rows\n",
      "\n"
     ]
    }
   ],
   "source": [
    "df_male_select.show()"
   ]
  },
  {
   "cell_type": "code",
   "execution_count": 10,
   "id": "2d8847a6-d3b5-4322-88ae-d3c365b397e7",
   "metadata": {},
   "outputs": [],
   "source": [
    "# Add gender column\n",
    "\n",
    "from pyspark.sql.functions import lit\n",
    "\n",
    "df_male_select = df_male_select.withColumn('gender', lit('male'))\n",
    "df_female_select = df_female_select.withColumn('gender', lit('female'))"
   ]
  },
  {
   "cell_type": "code",
   "execution_count": 11,
   "id": "d5a8abd3-f794-4d8b-abb1-ad74a3d72796",
   "metadata": {},
   "outputs": [
    {
     "name": "stderr",
     "output_type": "stream",
     "text": [
      "                                                                                \r"
     ]
    },
    {
     "name": "stdout",
     "output_type": "stream",
     "text": [
      "(142079, 17)\n",
      "(2244, 17)\n"
     ]
    }
   ],
   "source": [
    "# Show df size\n",
    "\n",
    "print((df_male_select.count(), len(df_male_select.columns)))\n",
    "print((df_female_select.count(), len(df_female_select.columns)))"
   ]
  },
  {
   "cell_type": "code",
   "execution_count": 12,
   "id": "c77cc1a9-20fe-4ef5-a144-2b69f88dd017",
   "metadata": {},
   "outputs": [],
   "source": [
    "# Union the male and female dataframes\n",
    "\n",
    "df_complete = df_male_select.union(df_female_select)"
   ]
  },
  {
   "cell_type": "code",
   "execution_count": 23,
   "id": "d9fa5422-de5f-4857-8d62-d8d4a6d5a786",
   "metadata": {},
   "outputs": [
    {
     "name": "stderr",
     "output_type": "stream",
     "text": [
      "[Stage 24:=======================>                                  (2 + 3) / 5]\r"
     ]
    },
    {
     "name": "stdout",
     "output_type": "stream",
     "text": [
      "+---------+-------+----------+-------+---+---+---------+---------+----------------+---------+-----------+------------+---------+---------+--------+----------------+------+\n",
      "|sofifa_id|version|short_name|overall|age|dob|height_cm|weight_kg|nationality_name|club_name|league_name|league_level|potential|value_eur|wage_eur|player_positions|gender|\n",
      "+---------+-------+----------+-------+---+---+---------+---------+----------------+---------+-----------+------------+---------+---------+--------+----------------+------+\n",
      "|        0|      0|         0|      0|  0|  0|        0|        0|               0|        0|       3874|        4259|        0|     4095|    3820|               0|     0|\n",
      "+---------+-------+----------+-------+---+---+---------+---------+----------------+---------+-----------+------------+---------+---------+--------+----------------+------+\n",
      "\n"
     ]
    },
    {
     "name": "stderr",
     "output_type": "stream",
     "text": [
      "                                                                                \r"
     ]
    }
   ],
   "source": [
    "# Show nan and null values\n",
    "from pyspark.sql.functions import col, isnan, when, count\n",
    "\n",
    "from pyspark.sql import functions as F\n",
    "\n",
    "df_complete.select(*[\n",
    "    (\n",
    "        F.count(F.when((F.isnan(c) | F.col(c).isNull()), c)) if t not in (\"timestamp\", \"date\")\n",
    "        else F.count(F.when(F.col(c).isNull(), c))\n",
    "    ).alias(c)\n",
    "    for c, t in df_complete.dtypes if c in df_complete.columns\n",
    "]).show()\n",
    "\n"
   ]
  },
  {
   "cell_type": "code",
   "execution_count": 22,
   "id": "dc236bd2-07f6-477e-86ef-354a7e9b2805",
   "metadata": {},
   "outputs": [],
   "source": [
    "# fill club_name to 'uknown' when na or null\n",
    "df_complete = df_complete.na.fill({'club_name': 'unknown'})"
   ]
  },
  {
   "cell_type": "code",
   "execution_count": null,
   "id": "f22807ef-ab6b-41bc-8b76-3680d7b7ced8",
   "metadata": {},
   "outputs": [],
   "source": [
    "# a ml predictor could be use to infer value_eur and wage_eur that are missing"
   ]
  },
  {
   "cell_type": "code",
   "execution_count": 38,
   "id": "923ae744-974e-482a-9cf9-c00b77458880",
   "metadata": {},
   "outputs": [],
   "source": [
    "# order dataset and assign id\n",
    "from pyspark.sql.functions import monotonically_increasing_id\n",
    "\n",
    "# orderBy dataframe in asc order with regard to the query that will be applied\n",
    "df_ordered = df_complete.orderBy(['version', 'gender', 'club_name', col(\"overall\").desc()])\n",
    "\n",
    "# df.orderBy($\"A\", $\"B\".desc)\n",
    "\n",
    "df_ordered = df_ordered.withColumn(\"unique_id\", monotonically_increasing_id()).drop('sofifa_id')"
   ]
  },
  {
   "cell_type": "code",
   "execution_count": 39,
   "id": "54b090fc-6443-43f1-b973-b854631c1888",
   "metadata": {},
   "outputs": [
    {
     "name": "stderr",
     "output_type": "stream",
     "text": [
      "[Stage 41:==============================================>           (4 + 1) / 5]\r"
     ]
    },
    {
     "name": "stdout",
     "output_type": "stream",
     "text": [
      "+---------+-------+----------------+-------+---+-------------------+---------+---------+----------------+--------------------+--------------------+------------+---------+---------+--------+----------------+------+---------+\n",
      "|sofifa_id|version|      short_name|overall|age|                dob|height_cm|weight_kg|nationality_name|           club_name|         league_name|league_level|potential|value_eur|wage_eur|player_positions|gender|unique_id|\n",
      "+---------+-------+----------------+-------+---+-------------------+---------+---------+----------------+--------------------+--------------------+------------+---------+---------+--------+----------------+------+---------+\n",
      "|   211703|     15|  M. Schnatterer|     67| 28|1985-11-18 00:00:00|      180|       75|         Germany|1. FC Heidenheim ...|German 2. Bundesliga|         2.0|       67|   675000|    6000|         LM, CAM|  male|        0|\n",
      "|   170448|     15|   J. Zimmermann|     65| 29|1985-04-19 00:00:00|      190|       86|         Germany|1. FC Heidenheim ...|German 2. Bundesliga|         2.0|       65|   525000|    2000|              GK|  male|        1|\n",
      "|   211822|     15|      S. Morabit|     65| 25|1988-07-05 00:00:00|      178|       76|          France|1. FC Heidenheim ...|German 2. Bundesliga|         2.0|       69|   625000|    3000|          ST, CF|  male|        2|\n",
      "|   211899|     15|F. Niederlechner|     65| 23|1990-10-24 00:00:00|      188|       85|         Germany|1. FC Heidenheim ...|German 2. Bundesliga|         2.0|       69|   550000|    3000|              ST|  male|        3|\n",
      "|   195262|     15|     A. Grimaldi|     64| 23|1991-04-05 00:00:00|      188|       90|         Germany|1. FC Heidenheim ...|German 2. Bundesliga|         2.0|       68|   550000|    3000|              ST|  male|        4|\n",
      "|   196339|     15|M. Titsch-Rivero|     64| 24|1989-11-02 00:00:00|      182|       76|         Germany|1. FC Heidenheim ...|German 2. Bundesliga|         2.0|       69|   550000|    2000|     CM, CDM, LM|  male|        5|\n",
      "|   211693|     15|      T. Göhlert|     64| 29|1984-09-15 00:00:00|      190|       82|         Germany|1. FC Heidenheim ...|German 2. Bundesliga|         2.0|       64|   400000|    2000|              CB|  male|        6|\n",
      "|   222553|     15|    S. Griesbeck|     64| 23|1990-10-03 00:00:00|      189|       84|         Germany|1. FC Heidenheim ...|German 2. Bundesliga|         2.0|       68|   400000|    2000|         CDM, CM|  male|        7|\n",
      "|   199305|     15|       M. Wittek|     63| 25|1989-03-30 00:00:00|      193|       89|         Germany|1. FC Heidenheim ...|German 2. Bundesliga|         2.0|       65|   325000|    2000|         CB, CDM|  male|        8|\n",
      "|   203454|     15|    J. Reinhardt|     63| 26|1988-03-29 00:00:00|      182|       75|         Germany|1. FC Heidenheim ...|German 2. Bundesliga|         2.0|       66|   375000|    3000|     CM, CDM, RM|  male|        9|\n",
      "|   211745|     15|        P. Riese|     63| 24|1989-11-12 00:00:00|      175|       70|         Germany|1. FC Heidenheim ...|German 2. Bundesliga|         2.0|       66|   275000|    2000|         CDM, CM|  male|       10|\n",
      "|   211872|     15|        P. Heise|     63| 23|1991-06-20 00:00:00|      183|       78|         Germany|1. FC Heidenheim ...|German 2. Bundesliga|         2.0|       68|   275000|    2000|              LB|  male|       11|\n",
      "|   211991|     15|     M. Vitzthum|     63| 22|1992-06-20 00:00:00|      185|       75|         Germany|1. FC Heidenheim ...|German 2. Bundesliga|         2.0|       71|   230000|    2000|              LB|  male|       12|\n",
      "|   177083|     15|       R. Strauß|     62| 27|1986-10-07 00:00:00|      175|       70|         Germany|1. FC Heidenheim ...|German 2. Bundesliga|         2.0|       63|   300000|    3000|          RB, RM|  male|       13|\n",
      "|   199831|     15|  R. Sattelmaier|     62| 26|1987-08-07 00:00:00|      187|       87|         Germany|1. FC Heidenheim ...|German 2. Bundesliga|         2.0|       63|   325000|    3000|              GK|  male|       14|\n",
      "|   201925|     15|        K. Kraus|     62| 21|1992-08-12 00:00:00|      190|       91|         Germany|1. FC Heidenheim ...|German 2. Bundesliga|         2.0|       68|   230000|    2000|              CB|  male|       15|\n",
      "|   204140|     15|       D. Malura|     62| 30|1984-06-20 00:00:00|      187|       81|         Germany|1. FC Heidenheim ...|German 2. Bundesliga|         2.0|       62|   230000|    2000|              RB|  male|       16|\n",
      "|   204378|     15|        P. Mayer|     62| 26|1988-03-28 00:00:00|      180|       78|         Germany|1. FC Heidenheim ...|German 2. Bundesliga|         2.0|       66|   400000|    3000|              ST|  male|       17|\n",
      "|   192566|     15|       M. Janzer|     61| 22|1992-03-07 00:00:00|      176|       77|         Germany|1. FC Heidenheim ...|German 2. Bundesliga|         2.0|       71|   190000|    2000|     LM, RM, CAM|  male|       18|\n",
      "|   211736|     15|     R. Leipertz|     61| 21|1993-02-01 00:00:00|      183|       82|         Germany|1. FC Heidenheim ...|German 2. Bundesliga|         2.0|       71|   190000|    2000|     LM, RM, CAM|  male|       19|\n",
      "+---------+-------+----------------+-------+---+-------------------+---------+---------+----------------+--------------------+--------------------+------------+---------+---------+--------+----------------+------+---------+\n",
      "only showing top 20 rows\n",
      "\n"
     ]
    },
    {
     "name": "stderr",
     "output_type": "stream",
     "text": [
      "                                                                                \r"
     ]
    }
   ],
   "source": [
    "df_ordered.show()"
   ]
  },
  {
   "cell_type": "code",
   "execution_count": 41,
   "id": "27064962-2bbf-4902-8d6b-385b47dc106f",
   "metadata": {},
   "outputs": [
    {
     "name": "stderr",
     "output_type": "stream",
     "text": [
      "                                                                                \r"
     ]
    }
   ],
   "source": [
    "# now that dataframe is ready export it to parquet by partitionin for version\n",
    "# even if dataset is not > 1 GB, if that were the case, this partitioning is the proper one as \n",
    "# when qurying the data they will always be grouped by da version of fifa\n",
    "\n",
    "df_ordered.write.partitionBy('version').mode('overwrite').format('parquet').save('dataset/')\n"
   ]
  },
  {
   "cell_type": "code",
   "execution_count": null,
   "id": "a93c9c2a-3357-4acc-9fb0-30444f33d292",
   "metadata": {},
   "outputs": [],
   "source": [
    "df_ordered.printSchema()"
   ]
  },
  {
   "cell_type": "code",
   "execution_count": null,
   "id": "90fb8a37-a953-4add-83e2-be54eab69f57",
   "metadata": {},
   "outputs": [],
   "source": [
    "# SAVE TO BIGQUERY"
   ]
  },
  {
   "cell_type": "code",
   "execution_count": null,
   "id": "55582a4e-18ca-420f-b793-4503d622645a",
   "metadata": {},
   "outputs": [],
   "source": [
    "spark.stop()"
   ]
  }
 ],
 "metadata": {
  "kernelspec": {
   "display_name": "Python 3 (ipykernel)",
   "language": "python",
   "name": "python3"
  },
  "language_info": {
   "codemirror_mode": {
    "name": "ipython",
    "version": 3
   },
   "file_extension": ".py",
   "mimetype": "text/x-python",
   "name": "python",
   "nbconvert_exporter": "python",
   "pygments_lexer": "ipython3",
   "version": "3.11.5"
  }
 },
 "nbformat": 4,
 "nbformat_minor": 5
}
