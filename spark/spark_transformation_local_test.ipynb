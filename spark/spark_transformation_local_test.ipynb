{
 "cells": [
  {
   "cell_type": "code",
   "execution_count": 4,
   "id": "94916acd-e7de-4bbd-bdcf-988c8ecb5003",
   "metadata": {},
   "outputs": [],
   "source": [
    "import pyspark\n",
    "from pyspark.sql import SparkSession\n",
    "from pyspark.conf import SparkConf\n",
    "from pyspark.context import SparkContext"
   ]
  },
  {
   "cell_type": "code",
   "execution_count": 35,
   "id": "167b40bd-85d2-47aa-86dd-45ee573fc4d6",
   "metadata": {},
   "outputs": [],
   "source": [
    "spark.stop()\n",
    "sc.stop()"
   ]
  },
  {
   "cell_type": "code",
   "execution_count": 36,
   "id": "be2ed83d-5221-492f-9868-769458de096f",
   "metadata": {},
   "outputs": [],
   "source": [
    "credentials_location = '/home/lorenz-gcp/batch-processing-fifa-dataset-on-gcp/mage/svcaccount.json'\n",
    "\n",
    "conf = SparkConf() \\\n",
    "    .setMaster('local[*]') \\\n",
    "    .setAppName('fifa-transformation') \\\n",
    "    .set(\"spark.jars\", \"/home/lorenz-gcp/spark/gcs-connector-hadoop3-2.2.9-shaded.jar\") \\\n",
    "    .set(\"spark.hadoop.google.cloud.auth.service.account.enable\", \"true\") \\\n",
    "    .set(\"spark.hadoop.google.cloud.auth.service.account.json.keyfile\", credentials_location)"
   ]
  },
  {
   "cell_type": "code",
   "execution_count": 37,
   "id": "a123d96e-f2fa-4922-afec-b62dc98af5a8",
   "metadata": {},
   "outputs": [],
   "source": [
    "sc = SparkContext(conf=conf)\n",
    "\n",
    "hadoop_conf = sc._jsc.hadoopConfiguration()\n",
    "\n",
    "hadoop_conf.set(\"fs.AbstractFileSystem.gs.impl\",  \"com.google.cloud.hadoop.fs.gcs.GoogleHadoopFS\")\n",
    "hadoop_conf.set(\"fs.gs.impl\", \"com.google.cloud.hadoop.fs.gcs.GoogleHadoopFileSystem\")\n",
    "hadoop_conf.set(\"fs.gs.auth.service.account.json.keyfile\", credentials_location)\n",
    "hadoop_conf.set(\"fs.gs.auth.service.account.enable\", \"true\")"
   ]
  },
  {
   "cell_type": "code",
   "execution_count": 38,
   "id": "9ec54d22-5ae0-4478-b126-f5cdaed2210e",
   "metadata": {},
   "outputs": [],
   "source": [
    "spark = SparkSession.builder \\\n",
    "    .config(conf=sc.getConf()) \\\n",
    "    .getOrCreate()"
   ]
  },
  {
   "cell_type": "code",
   "execution_count": 39,
   "id": "7a71be4b-ad96-4e95-838b-f8b35230039e",
   "metadata": {},
   "outputs": [
    {
     "name": "stdout",
     "output_type": "stream",
     "text": [
      "24/04/11 15:32:43 WARN FileStreamSink: Assume no metadata directory. Error while looking for metadata directory in the path: gs://mage-zoomcamp-bucket-lm/fifa-dataset_male.csv.\n",
      "java.lang.RuntimeException: java.lang.ClassNotFoundException: Class com.google.cloud.hadoop.fs.gcs.GoogleHadoopFileSystem not found\n",
      "\tat org.apache.hadoop.conf.Configuration.getClass(Configuration.java:2688)\n",
      "\tat org.apache.hadoop.fs.FileSystem.getFileSystemClass(FileSystem.java:3431)\n",
      "\tat org.apache.hadoop.fs.FileSystem.createFileSystem(FileSystem.java:3466)\n",
      "\tat org.apache.hadoop.fs.FileSystem.access$300(FileSystem.java:174)\n",
      "\tat org.apache.hadoop.fs.FileSystem$Cache.getInternal(FileSystem.java:3574)\n",
      "\tat org.apache.hadoop.fs.FileSystem$Cache.get(FileSystem.java:3521)\n",
      "\tat org.apache.hadoop.fs.FileSystem.get(FileSystem.java:540)\n",
      "\tat org.apache.hadoop.fs.Path.getFileSystem(Path.java:365)\n",
      "\tat org.apache.spark.sql.execution.streaming.FileStreamSink$.hasMetadata(FileStreamSink.scala:53)\n",
      "\tat org.apache.spark.sql.execution.datasources.DataSource.resolveRelation(DataSource.scala:370)\n",
      "\tat org.apache.spark.sql.DataFrameReader.loadV1Source(DataFrameReader.scala:228)\n",
      "\tat org.apache.spark.sql.DataFrameReader.$anonfun$load$2(DataFrameReader.scala:210)\n",
      "\tat scala.Option.getOrElse(Option.scala:189)\n",
      "\tat org.apache.spark.sql.DataFrameReader.load(DataFrameReader.scala:210)\n",
      "\tat org.apache.spark.sql.DataFrameReader.csv(DataFrameReader.scala:537)\n",
      "\tat java.base/jdk.internal.reflect.NativeMethodAccessorImpl.invoke0(Native Method)\n",
      "\tat java.base/jdk.internal.reflect.NativeMethodAccessorImpl.invoke(NativeMethodAccessorImpl.java:62)\n",
      "\tat java.base/jdk.internal.reflect.DelegatingMethodAccessorImpl.invoke(DelegatingMethodAccessorImpl.java:43)\n",
      "\tat java.base/java.lang.reflect.Method.invoke(Method.java:566)\n",
      "\tat py4j.reflection.MethodInvoker.invoke(MethodInvoker.java:244)\n",
      "\tat py4j.reflection.ReflectionEngine.invoke(ReflectionEngine.java:357)\n",
      "\tat py4j.Gateway.invoke(Gateway.java:282)\n",
      "\tat py4j.commands.AbstractCommand.invokeMethod(AbstractCommand.java:132)\n",
      "\tat py4j.commands.CallCommand.execute(CallCommand.java:79)\n",
      "\tat py4j.ClientServerConnection.waitForCommands(ClientServerConnection.java:182)\n",
      "\tat py4j.ClientServerConnection.run(ClientServerConnection.java:106)\n",
      "\tat java.base/java.lang.Thread.run(Thread.java:834)\n",
      "Caused by: java.lang.ClassNotFoundException: Class com.google.cloud.hadoop.fs.gcs.GoogleHadoopFileSystem not found\n",
      "\tat org.apache.hadoop.conf.Configuration.getClassByName(Configuration.java:2592)\n",
      "\tat org.apache.hadoop.conf.Configuration.getClass(Configuration.java:2686)\n",
      "\t... 26 more\n"
     ]
    },
    {
     "ename": "Py4JJavaError",
     "evalue": "An error occurred while calling o685.csv.\n: java.lang.RuntimeException: java.lang.ClassNotFoundException: Class com.google.cloud.hadoop.fs.gcs.GoogleHadoopFileSystem not found\n\tat org.apache.hadoop.conf.Configuration.getClass(Configuration.java:2688)\n\tat org.apache.hadoop.fs.FileSystem.getFileSystemClass(FileSystem.java:3431)\n\tat org.apache.hadoop.fs.FileSystem.createFileSystem(FileSystem.java:3466)\n\tat org.apache.hadoop.fs.FileSystem.access$300(FileSystem.java:174)\n\tat org.apache.hadoop.fs.FileSystem$Cache.getInternal(FileSystem.java:3574)\n\tat org.apache.hadoop.fs.FileSystem$Cache.get(FileSystem.java:3521)\n\tat org.apache.hadoop.fs.FileSystem.get(FileSystem.java:540)\n\tat org.apache.hadoop.fs.Path.getFileSystem(Path.java:365)\n\tat org.apache.spark.sql.execution.datasources.DataSource$.$anonfun$checkAndGlobPathIfNecessary$1(DataSource.scala:752)\n\tat scala.collection.immutable.List.map(List.scala:293)\n\tat org.apache.spark.sql.execution.datasources.DataSource$.checkAndGlobPathIfNecessary(DataSource.scala:750)\n\tat org.apache.spark.sql.execution.datasources.DataSource.checkAndGlobPathIfNecessary(DataSource.scala:579)\n\tat org.apache.spark.sql.execution.datasources.DataSource.resolveRelation(DataSource.scala:408)\n\tat org.apache.spark.sql.DataFrameReader.loadV1Source(DataFrameReader.scala:228)\n\tat org.apache.spark.sql.DataFrameReader.$anonfun$load$2(DataFrameReader.scala:210)\n\tat scala.Option.getOrElse(Option.scala:189)\n\tat org.apache.spark.sql.DataFrameReader.load(DataFrameReader.scala:210)\n\tat org.apache.spark.sql.DataFrameReader.csv(DataFrameReader.scala:537)\n\tat java.base/jdk.internal.reflect.NativeMethodAccessorImpl.invoke0(Native Method)\n\tat java.base/jdk.internal.reflect.NativeMethodAccessorImpl.invoke(NativeMethodAccessorImpl.java:62)\n\tat java.base/jdk.internal.reflect.DelegatingMethodAccessorImpl.invoke(DelegatingMethodAccessorImpl.java:43)\n\tat java.base/java.lang.reflect.Method.invoke(Method.java:566)\n\tat py4j.reflection.MethodInvoker.invoke(MethodInvoker.java:244)\n\tat py4j.reflection.ReflectionEngine.invoke(ReflectionEngine.java:357)\n\tat py4j.Gateway.invoke(Gateway.java:282)\n\tat py4j.commands.AbstractCommand.invokeMethod(AbstractCommand.java:132)\n\tat py4j.commands.CallCommand.execute(CallCommand.java:79)\n\tat py4j.ClientServerConnection.waitForCommands(ClientServerConnection.java:182)\n\tat py4j.ClientServerConnection.run(ClientServerConnection.java:106)\n\tat java.base/java.lang.Thread.run(Thread.java:834)\nCaused by: java.lang.ClassNotFoundException: Class com.google.cloud.hadoop.fs.gcs.GoogleHadoopFileSystem not found\n\tat org.apache.hadoop.conf.Configuration.getClassByName(Configuration.java:2592)\n\tat org.apache.hadoop.conf.Configuration.getClass(Configuration.java:2686)\n\t... 29 more\n",
     "output_type": "error",
     "traceback": [
      "\u001b[0;31m---------------------------------------------------------------------------\u001b[0m",
      "\u001b[0;31mPy4JJavaError\u001b[0m                             Traceback (most recent call last)",
      "Cell \u001b[0;32mIn[39], line 1\u001b[0m\n\u001b[0;32m----> 1\u001b[0m df_male \u001b[38;5;241m=\u001b[39m \u001b[43mspark\u001b[49m\u001b[38;5;241;43m.\u001b[39;49m\u001b[43mread\u001b[49m\u001b[38;5;241;43m.\u001b[39;49m\u001b[43mcsv\u001b[49m\u001b[43m(\u001b[49m\u001b[38;5;124;43m'\u001b[39;49m\u001b[38;5;124;43mgs://mage-zoomcamp-bucket-lm/fifa-dataset_male.csv\u001b[39;49m\u001b[38;5;124;43m'\u001b[39;49m\u001b[43m)\u001b[49m\n\u001b[1;32m      2\u001b[0m df_female \u001b[38;5;241m=\u001b[39m spark\u001b[38;5;241m.\u001b[39mread\u001b[38;5;241m.\u001b[39mcsv(\u001b[38;5;124m'\u001b[39m\u001b[38;5;124mgs://mage-zoomcamp-bucket-lm/fifa-dataset_female.csv\u001b[39m\u001b[38;5;124m'\u001b[39m)\n",
      "File \u001b[0;32m~/spark/spark-3.3.4-bin-hadoop3/python/pyspark/sql/readwriter.py:535\u001b[0m, in \u001b[0;36mDataFrameReader.csv\u001b[0;34m(self, path, schema, sep, encoding, quote, escape, comment, header, inferSchema, ignoreLeadingWhiteSpace, ignoreTrailingWhiteSpace, nullValue, nanValue, positiveInf, negativeInf, dateFormat, timestampFormat, maxColumns, maxCharsPerColumn, maxMalformedLogPerPartition, mode, columnNameOfCorruptRecord, multiLine, charToEscapeQuoteEscaping, samplingRatio, enforceSchema, emptyValue, locale, lineSep, pathGlobFilter, recursiveFileLookup, modifiedBefore, modifiedAfter, unescapedQuoteHandling)\u001b[0m\n\u001b[1;32m    533\u001b[0m \u001b[38;5;28;01mif\u001b[39;00m \u001b[38;5;28mtype\u001b[39m(path) \u001b[38;5;241m==\u001b[39m \u001b[38;5;28mlist\u001b[39m:\n\u001b[1;32m    534\u001b[0m     \u001b[38;5;28;01massert\u001b[39;00m \u001b[38;5;28mself\u001b[39m\u001b[38;5;241m.\u001b[39m_spark\u001b[38;5;241m.\u001b[39m_sc\u001b[38;5;241m.\u001b[39m_jvm \u001b[38;5;129;01mis\u001b[39;00m \u001b[38;5;129;01mnot\u001b[39;00m \u001b[38;5;28;01mNone\u001b[39;00m\n\u001b[0;32m--> 535\u001b[0m     \u001b[38;5;28;01mreturn\u001b[39;00m \u001b[38;5;28mself\u001b[39m\u001b[38;5;241m.\u001b[39m_df(\u001b[38;5;28;43mself\u001b[39;49m\u001b[38;5;241;43m.\u001b[39;49m\u001b[43m_jreader\u001b[49m\u001b[38;5;241;43m.\u001b[39;49m\u001b[43mcsv\u001b[49m\u001b[43m(\u001b[49m\u001b[38;5;28;43mself\u001b[39;49m\u001b[38;5;241;43m.\u001b[39;49m\u001b[43m_spark\u001b[49m\u001b[38;5;241;43m.\u001b[39;49m\u001b[43m_sc\u001b[49m\u001b[38;5;241;43m.\u001b[39;49m\u001b[43m_jvm\u001b[49m\u001b[38;5;241;43m.\u001b[39;49m\u001b[43mPythonUtils\u001b[49m\u001b[38;5;241;43m.\u001b[39;49m\u001b[43mtoSeq\u001b[49m\u001b[43m(\u001b[49m\u001b[43mpath\u001b[49m\u001b[43m)\u001b[49m\u001b[43m)\u001b[49m)\n\u001b[1;32m    536\u001b[0m \u001b[38;5;28;01melif\u001b[39;00m \u001b[38;5;28misinstance\u001b[39m(path, RDD):\n\u001b[1;32m    538\u001b[0m     \u001b[38;5;28;01mdef\u001b[39;00m \u001b[38;5;21mfunc\u001b[39m(iterator):\n",
      "File \u001b[0;32m~/spark/spark-3.3.4-bin-hadoop3/python/lib/py4j-0.10.9.5-src.zip/py4j/java_gateway.py:1321\u001b[0m, in \u001b[0;36mJavaMember.__call__\u001b[0;34m(self, *args)\u001b[0m\n\u001b[1;32m   1315\u001b[0m command \u001b[38;5;241m=\u001b[39m proto\u001b[38;5;241m.\u001b[39mCALL_COMMAND_NAME \u001b[38;5;241m+\u001b[39m\\\n\u001b[1;32m   1316\u001b[0m     \u001b[38;5;28mself\u001b[39m\u001b[38;5;241m.\u001b[39mcommand_header \u001b[38;5;241m+\u001b[39m\\\n\u001b[1;32m   1317\u001b[0m     args_command \u001b[38;5;241m+\u001b[39m\\\n\u001b[1;32m   1318\u001b[0m     proto\u001b[38;5;241m.\u001b[39mEND_COMMAND_PART\n\u001b[1;32m   1320\u001b[0m answer \u001b[38;5;241m=\u001b[39m \u001b[38;5;28mself\u001b[39m\u001b[38;5;241m.\u001b[39mgateway_client\u001b[38;5;241m.\u001b[39msend_command(command)\n\u001b[0;32m-> 1321\u001b[0m return_value \u001b[38;5;241m=\u001b[39m \u001b[43mget_return_value\u001b[49m\u001b[43m(\u001b[49m\n\u001b[1;32m   1322\u001b[0m \u001b[43m    \u001b[49m\u001b[43manswer\u001b[49m\u001b[43m,\u001b[49m\u001b[43m \u001b[49m\u001b[38;5;28;43mself\u001b[39;49m\u001b[38;5;241;43m.\u001b[39;49m\u001b[43mgateway_client\u001b[49m\u001b[43m,\u001b[49m\u001b[43m \u001b[49m\u001b[38;5;28;43mself\u001b[39;49m\u001b[38;5;241;43m.\u001b[39;49m\u001b[43mtarget_id\u001b[49m\u001b[43m,\u001b[49m\u001b[43m \u001b[49m\u001b[38;5;28;43mself\u001b[39;49m\u001b[38;5;241;43m.\u001b[39;49m\u001b[43mname\u001b[49m\u001b[43m)\u001b[49m\n\u001b[1;32m   1324\u001b[0m \u001b[38;5;28;01mfor\u001b[39;00m temp_arg \u001b[38;5;129;01min\u001b[39;00m temp_args:\n\u001b[1;32m   1325\u001b[0m     temp_arg\u001b[38;5;241m.\u001b[39m_detach()\n",
      "File \u001b[0;32m~/spark/spark-3.3.4-bin-hadoop3/python/pyspark/sql/utils.py:190\u001b[0m, in \u001b[0;36mcapture_sql_exception.<locals>.deco\u001b[0;34m(*a, **kw)\u001b[0m\n\u001b[1;32m    188\u001b[0m \u001b[38;5;28;01mdef\u001b[39;00m \u001b[38;5;21mdeco\u001b[39m(\u001b[38;5;241m*\u001b[39ma: Any, \u001b[38;5;241m*\u001b[39m\u001b[38;5;241m*\u001b[39mkw: Any) \u001b[38;5;241m-\u001b[39m\u001b[38;5;241m>\u001b[39m Any:\n\u001b[1;32m    189\u001b[0m     \u001b[38;5;28;01mtry\u001b[39;00m:\n\u001b[0;32m--> 190\u001b[0m         \u001b[38;5;28;01mreturn\u001b[39;00m \u001b[43mf\u001b[49m\u001b[43m(\u001b[49m\u001b[38;5;241;43m*\u001b[39;49m\u001b[43ma\u001b[49m\u001b[43m,\u001b[49m\u001b[43m \u001b[49m\u001b[38;5;241;43m*\u001b[39;49m\u001b[38;5;241;43m*\u001b[39;49m\u001b[43mkw\u001b[49m\u001b[43m)\u001b[49m\n\u001b[1;32m    191\u001b[0m     \u001b[38;5;28;01mexcept\u001b[39;00m Py4JJavaError \u001b[38;5;28;01mas\u001b[39;00m e:\n\u001b[1;32m    192\u001b[0m         converted \u001b[38;5;241m=\u001b[39m convert_exception(e\u001b[38;5;241m.\u001b[39mjava_exception)\n",
      "File \u001b[0;32m~/spark/spark-3.3.4-bin-hadoop3/python/lib/py4j-0.10.9.5-src.zip/py4j/protocol.py:326\u001b[0m, in \u001b[0;36mget_return_value\u001b[0;34m(answer, gateway_client, target_id, name)\u001b[0m\n\u001b[1;32m    324\u001b[0m value \u001b[38;5;241m=\u001b[39m OUTPUT_CONVERTER[\u001b[38;5;28mtype\u001b[39m](answer[\u001b[38;5;241m2\u001b[39m:], gateway_client)\n\u001b[1;32m    325\u001b[0m \u001b[38;5;28;01mif\u001b[39;00m answer[\u001b[38;5;241m1\u001b[39m] \u001b[38;5;241m==\u001b[39m REFERENCE_TYPE:\n\u001b[0;32m--> 326\u001b[0m     \u001b[38;5;28;01mraise\u001b[39;00m Py4JJavaError(\n\u001b[1;32m    327\u001b[0m         \u001b[38;5;124m\"\u001b[39m\u001b[38;5;124mAn error occurred while calling \u001b[39m\u001b[38;5;132;01m{0}\u001b[39;00m\u001b[38;5;132;01m{1}\u001b[39;00m\u001b[38;5;132;01m{2}\u001b[39;00m\u001b[38;5;124m.\u001b[39m\u001b[38;5;130;01m\\n\u001b[39;00m\u001b[38;5;124m\"\u001b[39m\u001b[38;5;241m.\u001b[39m\n\u001b[1;32m    328\u001b[0m         \u001b[38;5;28mformat\u001b[39m(target_id, \u001b[38;5;124m\"\u001b[39m\u001b[38;5;124m.\u001b[39m\u001b[38;5;124m\"\u001b[39m, name), value)\n\u001b[1;32m    329\u001b[0m \u001b[38;5;28;01melse\u001b[39;00m:\n\u001b[1;32m    330\u001b[0m     \u001b[38;5;28;01mraise\u001b[39;00m Py4JError(\n\u001b[1;32m    331\u001b[0m         \u001b[38;5;124m\"\u001b[39m\u001b[38;5;124mAn error occurred while calling \u001b[39m\u001b[38;5;132;01m{0}\u001b[39;00m\u001b[38;5;132;01m{1}\u001b[39;00m\u001b[38;5;132;01m{2}\u001b[39;00m\u001b[38;5;124m. Trace:\u001b[39m\u001b[38;5;130;01m\\n\u001b[39;00m\u001b[38;5;132;01m{3}\u001b[39;00m\u001b[38;5;130;01m\\n\u001b[39;00m\u001b[38;5;124m\"\u001b[39m\u001b[38;5;241m.\u001b[39m\n\u001b[1;32m    332\u001b[0m         \u001b[38;5;28mformat\u001b[39m(target_id, \u001b[38;5;124m\"\u001b[39m\u001b[38;5;124m.\u001b[39m\u001b[38;5;124m\"\u001b[39m, name, value))\n",
      "\u001b[0;31mPy4JJavaError\u001b[0m: An error occurred while calling o685.csv.\n: java.lang.RuntimeException: java.lang.ClassNotFoundException: Class com.google.cloud.hadoop.fs.gcs.GoogleHadoopFileSystem not found\n\tat org.apache.hadoop.conf.Configuration.getClass(Configuration.java:2688)\n\tat org.apache.hadoop.fs.FileSystem.getFileSystemClass(FileSystem.java:3431)\n\tat org.apache.hadoop.fs.FileSystem.createFileSystem(FileSystem.java:3466)\n\tat org.apache.hadoop.fs.FileSystem.access$300(FileSystem.java:174)\n\tat org.apache.hadoop.fs.FileSystem$Cache.getInternal(FileSystem.java:3574)\n\tat org.apache.hadoop.fs.FileSystem$Cache.get(FileSystem.java:3521)\n\tat org.apache.hadoop.fs.FileSystem.get(FileSystem.java:540)\n\tat org.apache.hadoop.fs.Path.getFileSystem(Path.java:365)\n\tat org.apache.spark.sql.execution.datasources.DataSource$.$anonfun$checkAndGlobPathIfNecessary$1(DataSource.scala:752)\n\tat scala.collection.immutable.List.map(List.scala:293)\n\tat org.apache.spark.sql.execution.datasources.DataSource$.checkAndGlobPathIfNecessary(DataSource.scala:750)\n\tat org.apache.spark.sql.execution.datasources.DataSource.checkAndGlobPathIfNecessary(DataSource.scala:579)\n\tat org.apache.spark.sql.execution.datasources.DataSource.resolveRelation(DataSource.scala:408)\n\tat org.apache.spark.sql.DataFrameReader.loadV1Source(DataFrameReader.scala:228)\n\tat org.apache.spark.sql.DataFrameReader.$anonfun$load$2(DataFrameReader.scala:210)\n\tat scala.Option.getOrElse(Option.scala:189)\n\tat org.apache.spark.sql.DataFrameReader.load(DataFrameReader.scala:210)\n\tat org.apache.spark.sql.DataFrameReader.csv(DataFrameReader.scala:537)\n\tat java.base/jdk.internal.reflect.NativeMethodAccessorImpl.invoke0(Native Method)\n\tat java.base/jdk.internal.reflect.NativeMethodAccessorImpl.invoke(NativeMethodAccessorImpl.java:62)\n\tat java.base/jdk.internal.reflect.DelegatingMethodAccessorImpl.invoke(DelegatingMethodAccessorImpl.java:43)\n\tat java.base/java.lang.reflect.Method.invoke(Method.java:566)\n\tat py4j.reflection.MethodInvoker.invoke(MethodInvoker.java:244)\n\tat py4j.reflection.ReflectionEngine.invoke(ReflectionEngine.java:357)\n\tat py4j.Gateway.invoke(Gateway.java:282)\n\tat py4j.commands.AbstractCommand.invokeMethod(AbstractCommand.java:132)\n\tat py4j.commands.CallCommand.execute(CallCommand.java:79)\n\tat py4j.ClientServerConnection.waitForCommands(ClientServerConnection.java:182)\n\tat py4j.ClientServerConnection.run(ClientServerConnection.java:106)\n\tat java.base/java.lang.Thread.run(Thread.java:834)\nCaused by: java.lang.ClassNotFoundException: Class com.google.cloud.hadoop.fs.gcs.GoogleHadoopFileSystem not found\n\tat org.apache.hadoop.conf.Configuration.getClassByName(Configuration.java:2592)\n\tat org.apache.hadoop.conf.Configuration.getClass(Configuration.java:2686)\n\t... 29 more\n"
     ]
    }
   ],
   "source": [
    "df_male = spark.read.csv('gs://mage-zoomcamp-bucket-lm/fifa-dataset-male.csv')\n",
    "df_female = spark.read.csv('gs://mage-zoomcamp-bucket-lm/fifa-dataset-female.csv')"
   ]
  },
  {
   "cell_type": "code",
   "execution_count": null,
   "id": "96b57288-c7d8-4605-b329-363304277dfa",
   "metadata": {},
   "outputs": [],
   "source": []
  },
  {
   "cell_type": "code",
   "execution_count": 1,
   "id": "c443f043-8dfb-46c4-9565-cbdab9c8213c",
   "metadata": {},
   "outputs": [],
   "source": [
    "import pyspark\n",
    "from pyspark.sql import SparkSession\n",
    "from pyspark.conf import SparkConf\n",
    "from pyspark.context import SparkContext"
   ]
  },
  {
   "cell_type": "code",
   "execution_count": 4,
   "id": "045b2b9d-b745-41f0-8f6a-db19a57d47eb",
   "metadata": {},
   "outputs": [
    {
     "name": "stderr",
     "output_type": "stream",
     "text": [
      "Setting default log level to \"WARN\".\n",
      "To adjust logging level use sc.setLogLevel(newLevel). For SparkR, use setLogLevel(newLevel).\n"
     ]
    },
    {
     "name": "stdout",
     "output_type": "stream",
     "text": [
      "24/04/11 15:47:47 WARN NativeCodeLoader: Unable to load native-hadoop library for your platform... using builtin-java classes where applicable\n"
     ]
    }
   ],
   "source": [
    "spark = SparkSession.builder \\\n",
    "    .master(\"local[*]\") \\\n",
    "    .appName('fifa-transformation') \\\n",
    "    .getOrCreate()"
   ]
  },
  {
   "cell_type": "code",
   "execution_count": 19,
   "id": "88fdbdd0-2467-4a43-8cd3-7320e126b1b2",
   "metadata": {},
   "outputs": [],
   "source": [
    "from pyspark.sql import types\n",
    "\n"
   ]
  },
  {
   "cell_type": "code",
   "execution_count": 27,
   "id": "98e91449-ed7c-47a0-8144-5ec75595d84d",
   "metadata": {},
   "outputs": [
    {
     "name": "stderr",
     "output_type": "stream",
     "text": [
      "                                                                                \r"
     ]
    }
   ],
   "source": [
    "df_male = spark.read.option(\"header\", \"true\").option(\"inferSchema\", \"true\").csv('fifa-dataset-male.csv')\n",
    "df_female = spark.read.option(\"header\", \"true\").option(\"inferSchema\", \"true\").csv('fifa-dataset-female.csv')"
   ]
  },
  {
   "cell_type": "code",
   "execution_count": 28,
   "id": "3cab8623-7423-45f4-a466-b1c712c69428",
   "metadata": {},
   "outputs": [
    {
     "name": "stdout",
     "output_type": "stream",
     "text": [
      "24/04/11 16:07:45 WARN CSVHeaderChecker: CSV header does not conform to the schema.\n",
      " Header: , sofifa_id, player_url, short_name, long_name, player_positions, overall, potential, value_eur, wage_eur, age, dob, height_cm, weight_kg, club_team_id, club_name, league_name, league_level, club_position, club_jersey_number, club_loaned_from, club_joined, club_contract_valid_until, nationality_id, nationality_name, nation_team_id, nation_position, nation_jersey_number, preferred_foot, weak_foot, skill_moves, international_reputation, work_rate, body_type, real_face, release_clause_eur, player_tags, player_traits, pace, shooting, passing, dribbling, defending, physic, attacking_crossing, attacking_finishing, attacking_heading_accuracy, attacking_short_passing, attacking_volleys, skill_dribbling, skill_curve, skill_fk_accuracy, skill_long_passing, skill_ball_control, movement_acceleration, movement_sprint_speed, movement_agility, movement_reactions, movement_balance, power_shot_power, power_jumping, power_stamina, power_strength, power_long_shots, mentality_aggression, mentality_interceptions, mentality_positioning, mentality_vision, mentality_penalties, mentality_composure, defending_marking_awareness, defending_standing_tackle, defending_sliding_tackle, goalkeeping_diving, goalkeeping_handling, goalkeeping_kicking, goalkeeping_positioning, goalkeeping_reflexes, goalkeeping_speed, ls, st, rs, lw, lf, cf, rf, rw, lam, cam, ram, lm, lcm, cm, rcm, rm, lwb, ldm, cdm, rdm, rwb, lb, lcb, cb, rcb, rb, gk, player_face_url, club_logo_url, club_flag_url, nation_logo_url, nation_flag_url, version\n",
      " Schema: _c0, sofifa_id, player_url, short_name, long_name, player_positions, overall, potential, value_eur, wage_eur, age, dob, height_cm, weight_kg, club_team_id, club_name, league_name, league_level, club_position, club_jersey_number, club_loaned_from, club_joined, club_contract_valid_until, nationality_id, nationality_name, nation_team_id, nation_position, nation_jersey_number, preferred_foot, weak_foot, skill_moves, international_reputation, work_rate, body_type, real_face, release_clause_eur, player_tags, player_traits, pace, shooting, passing, dribbling, defending, physic, attacking_crossing, attacking_finishing, attacking_heading_accuracy, attacking_short_passing, attacking_volleys, skill_dribbling, skill_curve, skill_fk_accuracy, skill_long_passing, skill_ball_control, movement_acceleration, movement_sprint_speed, movement_agility, movement_reactions, movement_balance, power_shot_power, power_jumping, power_stamina, power_strength, power_long_shots, mentality_aggression, mentality_interceptions, mentality_positioning, mentality_vision, mentality_penalties, mentality_composure, defending_marking_awareness, defending_standing_tackle, defending_sliding_tackle, goalkeeping_diving, goalkeeping_handling, goalkeeping_kicking, goalkeeping_positioning, goalkeeping_reflexes, goalkeeping_speed, ls, st, rs, lw, lf, cf, rf, rw, lam, cam, ram, lm, lcm, cm, rcm, rm, lwb, ldm, cdm, rdm, rwb, lb, lcb, cb, rcb, rb, gk, player_face_url, club_logo_url, club_flag_url, nation_logo_url, nation_flag_url, version\n",
      "Expected: _c0 but found: \n",
      "CSV file: file:///home/lorenz-gcp/batch-processing-fifa-dataset-on-gcp/spark/fifa-dataset-male.csv\n"
     ]
    },
    {
     "data": {
      "text/plain": [
       "Row(_c0=0, sofifa_id=158023, player_url='https://sofifa.com/player/158023/lionel-messi/150002', short_name='L. Messi', long_name='Lionel Andrés Messi Cuccittini', player_positions='CF', overall=93, potential=95, value_eur=100500000, wage_eur=550000, age=27, dob=datetime.datetime(1987, 6, 24, 0, 0), height_cm=169, weight_kg=67, club_team_id=241.0, club_name='FC Barcelona', league_name='Spain Primera Division', league_level=1.0, club_position='CF', club_jersey_number=10.0, club_loaned_from=None, club_joined=datetime.datetime(2004, 7, 1, 0, 0), club_contract_valid_until=2018.0, nationality_id=52, nationality_name='Argentina', nation_team_id=1369.0, nation_position='CF', nation_jersey_number=10.0, preferred_foot='Left', weak_foot=3, skill_moves=4, international_reputation=5, work_rate='Medium/Low', body_type='Normal (170-)', real_face='Yes', release_clause_eur=None, player_tags='#Speedster, #Dribbler, #FK Specialist, #Acrobat, #Clinical Finisher, #Complete Forward', player_traits='Finesse Shot, Speed Dribbler (AI), One Club Player, Team Player', pace=93.0, shooting=89.0, passing=86.0, dribbling=96.0, defending=27.0, physic=63.0, attacking_crossing=84, attacking_finishing=94, attacking_heading_accuracy=71, attacking_short_passing=89, attacking_volleys=85, skill_dribbling=96, skill_curve=89, skill_fk_accuracy=90, skill_long_passing=76, skill_ball_control=96, movement_acceleration=96, movement_sprint_speed=90, movement_agility=94, movement_reactions=94, movement_balance=95, power_shot_power=80, power_jumping=73, power_stamina=77, power_strength=60, power_long_shots=88, mentality_aggression=48, mentality_interceptions=22, mentality_positioning=92, mentality_vision=90, mentality_penalties=76, mentality_composure=None, defending_marking_awareness=25, defending_standing_tackle=21, defending_sliding_tackle=20, goalkeeping_diving=6, goalkeeping_handling=11, goalkeeping_kicking=15, goalkeeping_positioning=14, goalkeeping_reflexes=8, goalkeeping_speed=None, ls='89+3', st='89+3', rs='89+3', lw='92+3', lf='90+3', cf='90+3', rf='90+3', rw='92+3', lam='92+3', cam='92+3', ram='92+3', lm='90+3', lcm='79+3', cm='79+3', rcm='79+3', rm='90+3', lwb='62+3', ldm='62+3', cdm='62+3', rdm='62+3', rwb='62+3', lb='54+3', lcb='45+3', cb='45+3', rcb='45+3', rb='54+3', gk='15+3', player_face_url='https://cdn.sofifa.net/players/158/023/15_120.png', club_logo_url='https://cdn.sofifa.net/teams/241/60.png', club_flag_url='https://cdn.sofifa.net/flags/es.png', nation_logo_url='https://cdn.sofifa.net/teams/1369/60.png', nation_flag_url='https://cdn.sofifa.net/flags/ar.png', version=15)"
      ]
     },
     "execution_count": 28,
     "metadata": {},
     "output_type": "execute_result"
    }
   ],
   "source": [
    "df_male.head()\n",
    "# df_female.head()"
   ]
  },
  {
   "cell_type": "code",
   "execution_count": null,
   "id": "735ed051-87fd-4307-bb32-f83cacb59811",
   "metadata": {},
   "outputs": [],
   "source": []
  },
  {
   "cell_type": "code",
   "execution_count": 29,
   "id": "6218671d-53a0-4def-94ea-66e7b62cbf33",
   "metadata": {},
   "outputs": [],
   "source": [
    "columns_to_keep = [\n",
    "        'sofifa_id',\n",
    "        'version',\n",
    "        'short_name',\n",
    "        'overall',\n",
    "        'player_url',\n",
    "        'age',\n",
    "        'dob',\n",
    "        'height_cm',\n",
    "        'weight_kg',\n",
    "        'nationality_name',\n",
    "        'club_name',\n",
    "        'league_name',\n",
    "        'league_level',\n",
    "        'potential',\n",
    "        'value_eur',\n",
    "        'wage_eur',\n",
    "        'player_positions'\n",
    "]\n",
    "\n",
    "df_male_select = df_male.select(columns_to_keep)\n",
    "df_female_select = df_female.select(columns_to_keep)\n",
    "    "
   ]
  },
  {
   "cell_type": "code",
   "execution_count": 31,
   "id": "2d8847a6-d3b5-4322-88ae-d3c365b397e7",
   "metadata": {},
   "outputs": [],
   "source": [
    "from pyspark.sql.functions import lit\n",
    "\n",
    "df_male_select = df_male_select.withColumn('gender', lit('male'))\n",
    "df_female_select = df_female_select.withColumn('gender', lit('female'))"
   ]
  },
  {
   "cell_type": "code",
   "execution_count": 34,
   "id": "d5a8abd3-f794-4d8b-abb1-ad74a3d72796",
   "metadata": {},
   "outputs": [
    {
     "name": "stderr",
     "output_type": "stream",
     "text": [
      "[Stage 28:==============>                                           (1 + 3) / 4]\r"
     ]
    },
    {
     "name": "stdout",
     "output_type": "stream",
     "text": [
      "(142079, 19)\n",
      "(2244, 19)\n"
     ]
    },
    {
     "name": "stderr",
     "output_type": "stream",
     "text": [
      "                                                                                \r"
     ]
    }
   ],
   "source": [
    "df_male_select.head()\n",
    "print((df_male_select.count(), len(df_male_select.columns)))\n",
    "print((df_female_select.count(), len(df_female_select.columns)))"
   ]
  },
  {
   "cell_type": "code",
   "execution_count": 36,
   "id": "c77cc1a9-20fe-4ef5-a144-2b69f88dd017",
   "metadata": {},
   "outputs": [],
   "source": [
    "df_complete = df_male_select.union(df_female_select)"
   ]
  },
  {
   "cell_type": "code",
   "execution_count": 39,
   "id": "d6877a48-f9ed-474b-be6b-c86f7e57b69d",
   "metadata": {},
   "outputs": [
    {
     "name": "stdout",
     "output_type": "stream",
     "text": [
      "(144323, 19)\n",
      "+---------+-------+-----------------+-------+--------------------+---+-------------------+---------+---------+----------------+-------------------+--------------------+------------+---------+---------+--------+----------------+-------+------+\n",
      "|sofifa_id|version|       short_name|overall|          player_url|age|                dob|height_cm|weight_kg|nationality_name|          club_name|         league_name|league_level|potential|value_eur|wage_eur|player_positions|version|gender|\n",
      "+---------+-------+-----------------+-------+--------------------+---+-------------------+---------+---------+----------------+-------------------+--------------------+------------+---------+---------+--------+----------------+-------+------+\n",
      "|   158023|     15|         L. Messi|     93|https://sofifa.co...| 27|1987-06-24 00:00:00|      169|       67|       Argentina|       FC Barcelona|Spain Primera Div...|         1.0|       95|100500000|  550000|              CF|     15|  male|\n",
      "|    20801|     15|Cristiano Ronaldo|     92|https://sofifa.co...| 29|1985-02-05 00:00:00|      185|       80|        Portugal|     Real Madrid CF|Spain Primera Div...|         1.0|       92| 79000000|  375000|          LW, LM|     15|  male|\n",
      "|     9014|     15|        A. Robben|     90|https://sofifa.co...| 30|1984-01-23 00:00:00|      180|       80|     Netherlands|  FC Bayern München|German 1. Bundesliga|         1.0|       90| 54500000|  275000|      RM, LM, RW|     15|  male|\n",
      "|    41236|     15|   Z. Ibrahimović|     90|https://sofifa.co...| 32|1981-10-03 00:00:00|      195|       95|          Sweden|Paris Saint-Germain|      French Ligue 1|         1.0|       90| 52500000|  275000|              ST|     15|  male|\n",
      "|   167495|     15|         M. Neuer|     90|https://sofifa.co...| 28|1986-03-27 00:00:00|      193|       92|         Germany|  FC Bayern München|German 1. Bundesliga|         1.0|       90| 63500000|  300000|              GK|     15|  male|\n",
      "|       41|     15|          Iniesta|     89|https://sofifa.co...| 30|1984-05-11 00:00:00|      170|       65|           Spain|       FC Barcelona|Spain Primera Div...|         1.0|       89| 36000000|  250000|          CM, LW|     15|  male|\n",
      "|   176580|     15|        L. Suárez|     89|https://sofifa.co...| 27|1987-01-24 00:00:00|      181|       81|         Uruguay|       FC Barcelona|Spain Primera Div...|         1.0|       91| 49500000|  300000|          ST, CF|     15|  male|\n",
      "|     7826|     15|    R. van Persie|     88|https://sofifa.co...| 30|1983-08-06 00:00:00|      187|       71|     Netherlands|  Manchester United|English Premier L...|         1.0|       88| 40500000|  230000|              ST|     15|  male|\n",
      "|   121944|     15|B. Schweinsteiger|     88|https://sofifa.co...| 29|1984-08-01 00:00:00|      183|       79|         Germany|  FC Bayern München|German 1. Bundesliga|         1.0|       88| 39000000|  200000|         CM, CDM|     15|  male|\n",
      "|   156616|     15|        F. Ribéry|     88|https://sofifa.co...| 31|1983-04-07 00:00:00|      170|       72|          France|  FC Bayern München|German 1. Bundesliga|         1.0|       88| 33000000|  200000|              LM|     15|  male|\n",
      "|   167397|     15|           Falcao|     88|https://sofifa.co...| 28|1986-02-10 00:00:00|      177|       72|        Colombia|  Manchester United|English Premier L...|         1.0|       88| 46500000|  250000|              ST|     15|  male|\n",
      "|   183277|     15|        E. Hazard|     88|https://sofifa.co...| 23|1991-01-07 00:00:00|      173|       74|         Belgium|            Chelsea|English Premier L...|         1.0|       90| 40500000|  210000|          LM, RM|     15|  male|\n",
      "|   121939|     15|          P. Lahm|     87|https://sofifa.co...| 30|1983-11-11 00:00:00|      170|       66|         Germany|  FC Bayern München|German 1. Bundesliga|         1.0|       87| 24500000|  190000|     CDM, RB, CM|     15|  male|\n",
      "|   155862|     15|     Sergio Ramos|     87|https://sofifa.co...| 28|1986-03-30 00:00:00|      183|       75|           Spain|     Real Madrid CF|Spain Primera Div...|         1.0|       87| 31500000|  220000|              CB|     15|  male|\n",
      "|   164240|     15|     Thiago Silva|     87|https://sofifa.co...| 29|1984-09-22 00:00:00|      183|       79|          Brazil|Paris Saint-Germain|      French Ligue 1|         1.0|       87| 29000000|  190000|              CB|     15|  male|\n",
      "|   168542|     15|      David Silva|     87|https://sofifa.co...| 28|1986-01-08 00:00:00|      170|       67|           Spain|    Manchester City|English Premier L...|         1.0|       87| 36500000|  220000|         LM, CAM|     15|  male|\n",
      "|   173731|     15|          G. Bale|     87|https://sofifa.co...| 24|1989-07-16 00:00:00|      183|       74|           Wales|     Real Madrid CF|Spain Primera Div...|         1.0|       91| 39000000|  200000|          RM, RW|     15|  male|\n",
      "|   177003|     15|        L. Modrić|     87|https://sofifa.co...| 28|1985-09-09 00:00:00|      174|       65|         Croatia|     Real Madrid CF|Spain Primera Div...|         1.0|       87| 36500000|  220000|         CM, CDM|     15|  male|\n",
      "|   188545|     15|   R. Lewandowski|     87|https://sofifa.co...| 25|1988-08-21 00:00:00|      184|       78|          Poland|  FC Bayern München|German 1. Bundesliga|         1.0|       89| 44000000|  210000|          ST, CF|     15|  male|\n",
      "|    10535|     15|             Xavi|     86|https://sofifa.co...| 34|1980-01-25 00:00:00|      170|       68|           Spain|       FC Barcelona|Spain Primera Div...|         1.0|       86| 15500000|  160000|              CM|     15|  male|\n",
      "+---------+-------+-----------------+-------+--------------------+---+-------------------+---------+---------+----------------+-------------------+--------------------+------------+---------+---------+--------+----------------+-------+------+\n",
      "only showing top 20 rows\n",
      "\n"
     ]
    }
   ],
   "source": [
    "print((df_complete.count(), len(df_complete.columns)))\n",
    "df_complete.columns\n",
    "df_complete.show()"
   ]
  },
  {
   "cell_type": "code",
   "execution_count": 44,
   "id": "21e80b47-7a46-453b-a62c-6bdfc6ed6fc8",
   "metadata": {},
   "outputs": [
    {
     "name": "stderr",
     "output_type": "stream",
     "text": [
      "[Stage 44:===========>                                              (1 + 4) / 5]\r"
     ]
    },
    {
     "name": "stdout",
     "output_type": "stream",
     "text": [
      "+-------+------+-----+\n",
      "|version|gender|count|\n",
      "+-------+------+-----+\n",
      "|     16|  male|15623|\n",
      "|     15|  male|16155|\n",
      "|     17|  male|17596|\n",
      "|     18|  male|17954|\n",
      "|     19|  male|18085|\n",
      "|     20|  male|18483|\n",
      "|     21|  male|18944|\n",
      "|     22|  male|19239|\n",
      "|     16|female|  248|\n",
      "|     17|female|  299|\n",
      "|     22|female|  391|\n",
      "|     19|female|  299|\n",
      "|     20|female|  345|\n",
      "|     21|female|  345|\n",
      "|     18|female|  317|\n",
      "+-------+------+-----+\n",
      "\n"
     ]
    },
    {
     "name": "stderr",
     "output_type": "stream",
     "text": [
      "                                                                                \r"
     ]
    }
   ],
   "source": [
    "# TOTAL PLAYERS IN EACH FIFA BY GENDER\n",
    "\n",
    "df_complete.groupby('version', 'gender').count().show() "
   ]
  },
  {
   "cell_type": "code",
   "execution_count": 58,
   "id": "67102be0-5b2f-4deb-9d74-1da7d1ef0ea3",
   "metadata": {},
   "outputs": [
    {
     "name": "stderr",
     "output_type": "stream",
     "text": [
      "[Stage 47:===========>                                              (1 + 4) / 5]\r"
     ]
    },
    {
     "name": "stdout",
     "output_type": "stream",
     "text": [
      "+-------+------+-------+-----+\n",
      "|version|gender|overall|count|\n",
      "+-------+------+-------+-----+\n",
      "|     17|  male|     92|    3|\n",
      "|     17|  male|     93|    1|\n",
      "|     15|  male|     93|    1|\n",
      "|     15|  male|     92|    1|\n",
      "|     16|  male|     94|    1|\n",
      "|     16|  male|     93|    1|\n",
      "|     17|  male|     94|    1|\n",
      "|     18|  male|     91|    1|\n",
      "|     18|  male|     94|    1|\n",
      "|     19|  male|     92|    1|\n",
      "|     19|  male|     91|    6|\n",
      "|     18|  male|     93|    1|\n",
      "|     18|  male|     92|    3|\n",
      "|     19|  male|     94|    2|\n",
      "|     21|  male|     91|    4|\n",
      "|     21|  male|     93|    1|\n",
      "|     20|  male|     94|    1|\n",
      "|     20|  male|     92|    1|\n",
      "|     20|  male|     93|    1|\n",
      "|     21|  male|     92|    1|\n",
      "+-------+------+-------+-----+\n",
      "only showing top 20 rows\n",
      "\n"
     ]
    },
    {
     "name": "stderr",
     "output_type": "stream",
     "text": [
      "                                                                                \r"
     ]
    }
   ],
   "source": [
    "df_count = df_complete.groupby('version', 'gender', 'overall').count()\n",
    "df_filter = df_count.filter(\"overall > 90\").show()\n",
    "#df_complete.groupby('version', 'gender').agg(sum(\"overall\").as(\"sum_salary\")).where(df_complete['overall'] > 90)\n",
    " "
   ]
  },
  {
   "cell_type": "code",
   "execution_count": 66,
   "id": "08c9f6b4-0bad-4901-8036-a4331c235944",
   "metadata": {},
   "outputs": [],
   "source": [
    "\n"
   ]
  },
  {
   "cell_type": "code",
   "execution_count": 77,
   "id": "a3cc2214-2096-4b78-a6db-0fb2a754d799",
   "metadata": {},
   "outputs": [
    {
     "name": "stderr",
     "output_type": "stream",
     "text": [
      "                                                                                \r"
     ]
    },
    {
     "name": "stdout",
     "output_type": "stream",
     "text": [
      "+-------+-----------------+-------+\n",
      "|version|       short_name|overall|\n",
      "+-------+-----------------+-------+\n",
      "|     15|         L. Messi|     93|\n",
      "|     16|         L. Messi|     94|\n",
      "|     17|Cristiano Ronaldo|     94|\n",
      "|     18|Cristiano Ronaldo|     94|\n",
      "|     19|Cristiano Ronaldo|     94|\n",
      "|     19|         L. Messi|     94|\n",
      "|     20|         L. Messi|     94|\n",
      "|     21|         L. Messi|     93|\n",
      "|     22|         L. Messi|     93|\n",
      "|     21|       M. Rapinoe|     93|\n",
      "+-------+-----------------+-------+\n",
      "\n"
     ]
    }
   ],
   "source": [
    "# TOP PLAYER IN EACH FIFA\n",
    "\n",
    "df_green_revenue = spark.sql(\"\"\"\n",
    "\n",
    "SELECT version, short_name, overall\n",
    "FROM fifa WHERE (version,overall) IN\n",
    "( SELECT version, MAX(overall)\n",
    "  FROM fifa\n",
    "  GROUP BY version\n",
    ")\n",
    "\n",
    "\"\"\")\n",
    "\n",
    "\n",
    "df_green_revenue.show()"
   ]
  },
  {
   "cell_type": "code",
   "execution_count": 90,
   "id": "14e35b05-1778-4cf6-88a2-3e196f94b337",
   "metadata": {},
   "outputs": [
    {
     "ename": "AnalysisException",
     "evalue": "cannot resolve '(fifa.club_name IN (listquery()))' due to data type mismatch: \nThe number of columns in the left hand side of an IN subquery does not match the\nnumber of columns in the output of subquery.\n#columns in left hand side: 1.\n#columns in right hand side: 2.\nLeft side columns:\n[fifa.club_name].\nRight side columns:\n[fifa.club_name, `sum(overall)`].; line 4 pos 26;\n'Project ['version, 'club_name, 'overall]\n+- 'Filter club_name#3083 IN (list#6107 [])\n   :  +- Aggregate [club_name#6125], [club_name#6125, sum(overall#6116) AS sum(overall)#6109L]\n   :     +- SubqueryAlias fifa\n   :        +- View (`fifa`, [sofifa_id#6111,version#6221,short_name#6113,overall#6116,player_url#6112,age#6120,dob#6121,height_cm#6122,weight_kg#6123,nationality_name#6134,club_name#6125,league_name#6126,league_level#3846,potential#6117,value_eur#6118,wage_eur#6119,player_positions#6115,version#3844,gender#3683])\n   :           +- Union false, false\n   :              :- Project [sofifa_id#6111, version#6221, short_name#6113, overall#6116, player_url#6112, age#6120, dob#6121, height_cm#6122, weight_kg#6123, nationality_name#6134, club_name#6125, league_name#6126, cast(league_level#6127 as string) AS league_level#3846, potential#6117, value_eur#6118, wage_eur#6119, player_positions#6115, version#3844, gender#3683]\n   :              :  +- Project [sofifa_id#6111, version#6221, short_name#6113, overall#6116, player_url#6112, age#6120, dob#6121, height_cm#6122, weight_kg#6123, nationality_name#6134, club_name#6125, league_name#6126, league_level#6127, potential#6117, value_eur#6118, wage_eur#6119, player_positions#6115, version#6221 AS version#3844, gender#3683]\n   :              :     +- Project [sofifa_id#6111, version#6221, short_name#6113, overall#6116, player_url#6112, age#6120, dob#6121, height_cm#6122, weight_kg#6123, nationality_name#6134, club_name#6125, league_name#6126, league_level#6127, potential#6117, value_eur#6118, wage_eur#6119, player_positions#6115, version#6221, male AS gender#3683]\n   :              :        +- Project [sofifa_id#6111, version#6221, short_name#6113, overall#6116, player_url#6112, age#6120, dob#6121, height_cm#6122, weight_kg#6123, nationality_name#6134, club_name#6125, league_name#6126, league_level#6127, potential#6117, value_eur#6118, wage_eur#6119, player_positions#6115, version#6221]\n   :              :           +- Relation [_c0#6110,sofifa_id#6111,player_url#6112,short_name#6113,long_name#6114,player_positions#6115,overall#6116,potential#6117,value_eur#6118,wage_eur#6119,age#6120,dob#6121,height_cm#6122,weight_kg#6123,club_team_id#6124,club_name#6125,league_name#6126,league_level#6127,club_position#6128,club_jersey_number#6129,club_loaned_from#6130,club_joined#6131,club_contract_valid_until#6132,nationality_id#6133,... 88 more fields] csv\n   :              +- Project [sofifa_id#6223, version#6333, short_name#6225, overall#6228, player_url#6224, age#6232, dob#6233, height_cm#6234, weight_kg#6235, nationality_name#6246, club_name#6237, league_name#6238, league_level#6239, potential#6229, value_eur#6230, wage_eur#6231, player_positions#6227, version#6333 AS version#3845, gender#3703]\n   :                 +- Project [sofifa_id#6223, version#6333, short_name#6225, overall#6228, player_url#6224, age#6232, dob#6233, height_cm#6234, weight_kg#6235, nationality_name#6246, club_name#6237, league_name#6238, league_level#6239, potential#6229, value_eur#6230, wage_eur#6231, player_positions#6227, version#6333, female AS gender#3703]\n   :                    +- Project [sofifa_id#6223, version#6333, short_name#6225, overall#6228, player_url#6224, age#6232, dob#6233, height_cm#6234, weight_kg#6235, nationality_name#6246, club_name#6237, league_name#6238, league_level#6239, potential#6229, value_eur#6230, wage_eur#6231, player_positions#6227, version#6333]\n   :                       +- Relation [_c0#6222,sofifa_id#6223,player_url#6224,short_name#6225,long_name#6226,player_positions#6227,overall#6228,potential#6229,value_eur#6230,wage_eur#6231,age#6232,dob#6233,height_cm#6234,weight_kg#6235,club_team_id#6236,club_name#6237,league_name#6238,league_level#6239,club_position#6240,club_jersey_number#6241,club_loaned_from#6242,club_joined#6243,club_contract_valid_until#6244,nationality_id#6245,... 88 more fields] csv\n   +- SubqueryAlias fifa\n      +- View (`fifa`, [sofifa_id#3069,version#3179,short_name#3071,overall#3074,player_url#3070,age#3078,dob#3079,height_cm#3080,weight_kg#3081,nationality_name#3092,club_name#3083,league_name#3084,league_level#3846,potential#3075,value_eur#3076,wage_eur#3077,player_positions#3073,version#3844,gender#3683])\n         +- Union false, false\n            :- Project [sofifa_id#3069, version#3179, short_name#3071, overall#3074, player_url#3070, age#3078, dob#3079, height_cm#3080, weight_kg#3081, nationality_name#3092, club_name#3083, league_name#3084, cast(league_level#3085 as string) AS league_level#3846, potential#3075, value_eur#3076, wage_eur#3077, player_positions#3073, version#3844, gender#3683]\n            :  +- Project [sofifa_id#3069, version#3179, short_name#3071, overall#3074, player_url#3070, age#3078, dob#3079, height_cm#3080, weight_kg#3081, nationality_name#3092, club_name#3083, league_name#3084, league_level#3085, potential#3075, value_eur#3076, wage_eur#3077, player_positions#3073, version#3179 AS version#3844, gender#3683]\n            :     +- Project [sofifa_id#3069, version#3179, short_name#3071, overall#3074, player_url#3070, age#3078, dob#3079, height_cm#3080, weight_kg#3081, nationality_name#3092, club_name#3083, league_name#3084, league_level#3085, potential#3075, value_eur#3076, wage_eur#3077, player_positions#3073, version#3179, male AS gender#3683]\n            :        +- Project [sofifa_id#3069, version#3179, short_name#3071, overall#3074, player_url#3070, age#3078, dob#3079, height_cm#3080, weight_kg#3081, nationality_name#3092, club_name#3083, league_name#3084, league_level#3085, potential#3075, value_eur#3076, wage_eur#3077, player_positions#3073, version#3179]\n            :           +- Relation [_c0#3068,sofifa_id#3069,player_url#3070,short_name#3071,long_name#3072,player_positions#3073,overall#3074,potential#3075,value_eur#3076,wage_eur#3077,age#3078,dob#3079,height_cm#3080,weight_kg#3081,club_team_id#3082,club_name#3083,league_name#3084,league_level#3085,club_position#3086,club_jersey_number#3087,club_loaned_from#3088,club_joined#3089,club_contract_valid_until#3090,nationality_id#3091,... 88 more fields] csv\n            +- Project [sofifa_id#3310, version#3420, short_name#3312, overall#3315, player_url#3311, age#3319, dob#3320, height_cm#3321, weight_kg#3322, nationality_name#3333, club_name#3324, league_name#3325, league_level#3326, potential#3316, value_eur#3317, wage_eur#3318, player_positions#3314, version#3420 AS version#3845, gender#3703]\n               +- Project [sofifa_id#3310, version#3420, short_name#3312, overall#3315, player_url#3311, age#3319, dob#3320, height_cm#3321, weight_kg#3322, nationality_name#3333, club_name#3324, league_name#3325, league_level#3326, potential#3316, value_eur#3317, wage_eur#3318, player_positions#3314, version#3420, female AS gender#3703]\n                  +- Project [sofifa_id#3310, version#3420, short_name#3312, overall#3315, player_url#3311, age#3319, dob#3320, height_cm#3321, weight_kg#3322, nationality_name#3333, club_name#3324, league_name#3325, league_level#3326, potential#3316, value_eur#3317, wage_eur#3318, player_positions#3314, version#3420]\n                     +- Relation [_c0#3309,sofifa_id#3310,player_url#3311,short_name#3312,long_name#3313,player_positions#3314,overall#3315,potential#3316,value_eur#3317,wage_eur#3318,age#3319,dob#3320,height_cm#3321,weight_kg#3322,club_team_id#3323,club_name#3324,league_name#3325,league_level#3326,club_position#3327,club_jersey_number#3328,club_loaned_from#3329,club_joined#3330,club_contract_valid_until#3331,nationality_id#3332,... 88 more fields] csv\n",
     "output_type": "error",
     "traceback": [
      "\u001b[0;31m---------------------------------------------------------------------------\u001b[0m",
      "\u001b[0;31mAnalysisException\u001b[0m                         Traceback (most recent call last)",
      "Cell \u001b[0;32mIn[90], line 3\u001b[0m\n\u001b[1;32m      1\u001b[0m \u001b[38;5;66;03m# Best Team in each fifa (considering the 11 top players)\u001b[39;00m\n\u001b[0;32m----> 3\u001b[0m df_best_teams \u001b[38;5;241m=\u001b[39m \u001b[43mspark\u001b[49m\u001b[38;5;241;43m.\u001b[39;49m\u001b[43msql\u001b[49m\u001b[43m(\u001b[49m\u001b[38;5;124;43m\"\"\"\u001b[39;49m\n\u001b[1;32m      4\u001b[0m \n\u001b[1;32m      5\u001b[0m \u001b[38;5;124;43mSELECT version, club_name, overall\u001b[39;49m\n\u001b[1;32m      6\u001b[0m \u001b[38;5;124;43mFROM fifa WHERE club_name IN\u001b[39;49m\n\u001b[1;32m      7\u001b[0m \u001b[38;5;124;43m( SELECT club_name, SUM(overall)\u001b[39;49m\n\u001b[1;32m      8\u001b[0m \u001b[38;5;124;43m  FROM fifa\u001b[39;49m\n\u001b[1;32m      9\u001b[0m \u001b[38;5;124;43m  GROUP BY club_name\u001b[39;49m\n\u001b[1;32m     10\u001b[0m \u001b[38;5;124;43m)\u001b[39;49m\n\u001b[1;32m     11\u001b[0m \n\u001b[1;32m     12\u001b[0m \u001b[38;5;124;43m\"\"\"\u001b[39;49m\u001b[43m)\u001b[49m\u001b[38;5;241m.\u001b[39mshow()\n",
      "File \u001b[0;32m~/spark/spark-3.3.4-bin-hadoop3/python/pyspark/sql/session.py:1034\u001b[0m, in \u001b[0;36mSparkSession.sql\u001b[0;34m(self, sqlQuery, **kwargs)\u001b[0m\n\u001b[1;32m   1032\u001b[0m     sqlQuery \u001b[38;5;241m=\u001b[39m formatter\u001b[38;5;241m.\u001b[39mformat(sqlQuery, \u001b[38;5;241m*\u001b[39m\u001b[38;5;241m*\u001b[39mkwargs)\n\u001b[1;32m   1033\u001b[0m \u001b[38;5;28;01mtry\u001b[39;00m:\n\u001b[0;32m-> 1034\u001b[0m     \u001b[38;5;28;01mreturn\u001b[39;00m DataFrame(\u001b[38;5;28;43mself\u001b[39;49m\u001b[38;5;241;43m.\u001b[39;49m\u001b[43m_jsparkSession\u001b[49m\u001b[38;5;241;43m.\u001b[39;49m\u001b[43msql\u001b[49m\u001b[43m(\u001b[49m\u001b[43msqlQuery\u001b[49m\u001b[43m)\u001b[49m, \u001b[38;5;28mself\u001b[39m)\n\u001b[1;32m   1035\u001b[0m \u001b[38;5;28;01mfinally\u001b[39;00m:\n\u001b[1;32m   1036\u001b[0m     \u001b[38;5;28;01mif\u001b[39;00m \u001b[38;5;28mlen\u001b[39m(kwargs) \u001b[38;5;241m>\u001b[39m \u001b[38;5;241m0\u001b[39m:\n",
      "File \u001b[0;32m~/spark/spark-3.3.4-bin-hadoop3/python/lib/py4j-0.10.9.5-src.zip/py4j/java_gateway.py:1321\u001b[0m, in \u001b[0;36mJavaMember.__call__\u001b[0;34m(self, *args)\u001b[0m\n\u001b[1;32m   1315\u001b[0m command \u001b[38;5;241m=\u001b[39m proto\u001b[38;5;241m.\u001b[39mCALL_COMMAND_NAME \u001b[38;5;241m+\u001b[39m\\\n\u001b[1;32m   1316\u001b[0m     \u001b[38;5;28mself\u001b[39m\u001b[38;5;241m.\u001b[39mcommand_header \u001b[38;5;241m+\u001b[39m\\\n\u001b[1;32m   1317\u001b[0m     args_command \u001b[38;5;241m+\u001b[39m\\\n\u001b[1;32m   1318\u001b[0m     proto\u001b[38;5;241m.\u001b[39mEND_COMMAND_PART\n\u001b[1;32m   1320\u001b[0m answer \u001b[38;5;241m=\u001b[39m \u001b[38;5;28mself\u001b[39m\u001b[38;5;241m.\u001b[39mgateway_client\u001b[38;5;241m.\u001b[39msend_command(command)\n\u001b[0;32m-> 1321\u001b[0m return_value \u001b[38;5;241m=\u001b[39m \u001b[43mget_return_value\u001b[49m\u001b[43m(\u001b[49m\n\u001b[1;32m   1322\u001b[0m \u001b[43m    \u001b[49m\u001b[43manswer\u001b[49m\u001b[43m,\u001b[49m\u001b[43m \u001b[49m\u001b[38;5;28;43mself\u001b[39;49m\u001b[38;5;241;43m.\u001b[39;49m\u001b[43mgateway_client\u001b[49m\u001b[43m,\u001b[49m\u001b[43m \u001b[49m\u001b[38;5;28;43mself\u001b[39;49m\u001b[38;5;241;43m.\u001b[39;49m\u001b[43mtarget_id\u001b[49m\u001b[43m,\u001b[49m\u001b[43m \u001b[49m\u001b[38;5;28;43mself\u001b[39;49m\u001b[38;5;241;43m.\u001b[39;49m\u001b[43mname\u001b[49m\u001b[43m)\u001b[49m\n\u001b[1;32m   1324\u001b[0m \u001b[38;5;28;01mfor\u001b[39;00m temp_arg \u001b[38;5;129;01min\u001b[39;00m temp_args:\n\u001b[1;32m   1325\u001b[0m     temp_arg\u001b[38;5;241m.\u001b[39m_detach()\n",
      "File \u001b[0;32m~/spark/spark-3.3.4-bin-hadoop3/python/pyspark/sql/utils.py:196\u001b[0m, in \u001b[0;36mcapture_sql_exception.<locals>.deco\u001b[0;34m(*a, **kw)\u001b[0m\n\u001b[1;32m    192\u001b[0m converted \u001b[38;5;241m=\u001b[39m convert_exception(e\u001b[38;5;241m.\u001b[39mjava_exception)\n\u001b[1;32m    193\u001b[0m \u001b[38;5;28;01mif\u001b[39;00m \u001b[38;5;129;01mnot\u001b[39;00m \u001b[38;5;28misinstance\u001b[39m(converted, UnknownException):\n\u001b[1;32m    194\u001b[0m     \u001b[38;5;66;03m# Hide where the exception came from that shows a non-Pythonic\u001b[39;00m\n\u001b[1;32m    195\u001b[0m     \u001b[38;5;66;03m# JVM exception message.\u001b[39;00m\n\u001b[0;32m--> 196\u001b[0m     \u001b[38;5;28;01mraise\u001b[39;00m converted \u001b[38;5;28;01mfrom\u001b[39;00m \u001b[38;5;28;01mNone\u001b[39;00m\n\u001b[1;32m    197\u001b[0m \u001b[38;5;28;01melse\u001b[39;00m:\n\u001b[1;32m    198\u001b[0m     \u001b[38;5;28;01mraise\u001b[39;00m\n",
      "\u001b[0;31mAnalysisException\u001b[0m: cannot resolve '(fifa.club_name IN (listquery()))' due to data type mismatch: \nThe number of columns in the left hand side of an IN subquery does not match the\nnumber of columns in the output of subquery.\n#columns in left hand side: 1.\n#columns in right hand side: 2.\nLeft side columns:\n[fifa.club_name].\nRight side columns:\n[fifa.club_name, `sum(overall)`].; line 4 pos 26;\n'Project ['version, 'club_name, 'overall]\n+- 'Filter club_name#3083 IN (list#6107 [])\n   :  +- Aggregate [club_name#6125], [club_name#6125, sum(overall#6116) AS sum(overall)#6109L]\n   :     +- SubqueryAlias fifa\n   :        +- View (`fifa`, [sofifa_id#6111,version#6221,short_name#6113,overall#6116,player_url#6112,age#6120,dob#6121,height_cm#6122,weight_kg#6123,nationality_name#6134,club_name#6125,league_name#6126,league_level#3846,potential#6117,value_eur#6118,wage_eur#6119,player_positions#6115,version#3844,gender#3683])\n   :           +- Union false, false\n   :              :- Project [sofifa_id#6111, version#6221, short_name#6113, overall#6116, player_url#6112, age#6120, dob#6121, height_cm#6122, weight_kg#6123, nationality_name#6134, club_name#6125, league_name#6126, cast(league_level#6127 as string) AS league_level#3846, potential#6117, value_eur#6118, wage_eur#6119, player_positions#6115, version#3844, gender#3683]\n   :              :  +- Project [sofifa_id#6111, version#6221, short_name#6113, overall#6116, player_url#6112, age#6120, dob#6121, height_cm#6122, weight_kg#6123, nationality_name#6134, club_name#6125, league_name#6126, league_level#6127, potential#6117, value_eur#6118, wage_eur#6119, player_positions#6115, version#6221 AS version#3844, gender#3683]\n   :              :     +- Project [sofifa_id#6111, version#6221, short_name#6113, overall#6116, player_url#6112, age#6120, dob#6121, height_cm#6122, weight_kg#6123, nationality_name#6134, club_name#6125, league_name#6126, league_level#6127, potential#6117, value_eur#6118, wage_eur#6119, player_positions#6115, version#6221, male AS gender#3683]\n   :              :        +- Project [sofifa_id#6111, version#6221, short_name#6113, overall#6116, player_url#6112, age#6120, dob#6121, height_cm#6122, weight_kg#6123, nationality_name#6134, club_name#6125, league_name#6126, league_level#6127, potential#6117, value_eur#6118, wage_eur#6119, player_positions#6115, version#6221]\n   :              :           +- Relation [_c0#6110,sofifa_id#6111,player_url#6112,short_name#6113,long_name#6114,player_positions#6115,overall#6116,potential#6117,value_eur#6118,wage_eur#6119,age#6120,dob#6121,height_cm#6122,weight_kg#6123,club_team_id#6124,club_name#6125,league_name#6126,league_level#6127,club_position#6128,club_jersey_number#6129,club_loaned_from#6130,club_joined#6131,club_contract_valid_until#6132,nationality_id#6133,... 88 more fields] csv\n   :              +- Project [sofifa_id#6223, version#6333, short_name#6225, overall#6228, player_url#6224, age#6232, dob#6233, height_cm#6234, weight_kg#6235, nationality_name#6246, club_name#6237, league_name#6238, league_level#6239, potential#6229, value_eur#6230, wage_eur#6231, player_positions#6227, version#6333 AS version#3845, gender#3703]\n   :                 +- Project [sofifa_id#6223, version#6333, short_name#6225, overall#6228, player_url#6224, age#6232, dob#6233, height_cm#6234, weight_kg#6235, nationality_name#6246, club_name#6237, league_name#6238, league_level#6239, potential#6229, value_eur#6230, wage_eur#6231, player_positions#6227, version#6333, female AS gender#3703]\n   :                    +- Project [sofifa_id#6223, version#6333, short_name#6225, overall#6228, player_url#6224, age#6232, dob#6233, height_cm#6234, weight_kg#6235, nationality_name#6246, club_name#6237, league_name#6238, league_level#6239, potential#6229, value_eur#6230, wage_eur#6231, player_positions#6227, version#6333]\n   :                       +- Relation [_c0#6222,sofifa_id#6223,player_url#6224,short_name#6225,long_name#6226,player_positions#6227,overall#6228,potential#6229,value_eur#6230,wage_eur#6231,age#6232,dob#6233,height_cm#6234,weight_kg#6235,club_team_id#6236,club_name#6237,league_name#6238,league_level#6239,club_position#6240,club_jersey_number#6241,club_loaned_from#6242,club_joined#6243,club_contract_valid_until#6244,nationality_id#6245,... 88 more fields] csv\n   +- SubqueryAlias fifa\n      +- View (`fifa`, [sofifa_id#3069,version#3179,short_name#3071,overall#3074,player_url#3070,age#3078,dob#3079,height_cm#3080,weight_kg#3081,nationality_name#3092,club_name#3083,league_name#3084,league_level#3846,potential#3075,value_eur#3076,wage_eur#3077,player_positions#3073,version#3844,gender#3683])\n         +- Union false, false\n            :- Project [sofifa_id#3069, version#3179, short_name#3071, overall#3074, player_url#3070, age#3078, dob#3079, height_cm#3080, weight_kg#3081, nationality_name#3092, club_name#3083, league_name#3084, cast(league_level#3085 as string) AS league_level#3846, potential#3075, value_eur#3076, wage_eur#3077, player_positions#3073, version#3844, gender#3683]\n            :  +- Project [sofifa_id#3069, version#3179, short_name#3071, overall#3074, player_url#3070, age#3078, dob#3079, height_cm#3080, weight_kg#3081, nationality_name#3092, club_name#3083, league_name#3084, league_level#3085, potential#3075, value_eur#3076, wage_eur#3077, player_positions#3073, version#3179 AS version#3844, gender#3683]\n            :     +- Project [sofifa_id#3069, version#3179, short_name#3071, overall#3074, player_url#3070, age#3078, dob#3079, height_cm#3080, weight_kg#3081, nationality_name#3092, club_name#3083, league_name#3084, league_level#3085, potential#3075, value_eur#3076, wage_eur#3077, player_positions#3073, version#3179, male AS gender#3683]\n            :        +- Project [sofifa_id#3069, version#3179, short_name#3071, overall#3074, player_url#3070, age#3078, dob#3079, height_cm#3080, weight_kg#3081, nationality_name#3092, club_name#3083, league_name#3084, league_level#3085, potential#3075, value_eur#3076, wage_eur#3077, player_positions#3073, version#3179]\n            :           +- Relation [_c0#3068,sofifa_id#3069,player_url#3070,short_name#3071,long_name#3072,player_positions#3073,overall#3074,potential#3075,value_eur#3076,wage_eur#3077,age#3078,dob#3079,height_cm#3080,weight_kg#3081,club_team_id#3082,club_name#3083,league_name#3084,league_level#3085,club_position#3086,club_jersey_number#3087,club_loaned_from#3088,club_joined#3089,club_contract_valid_until#3090,nationality_id#3091,... 88 more fields] csv\n            +- Project [sofifa_id#3310, version#3420, short_name#3312, overall#3315, player_url#3311, age#3319, dob#3320, height_cm#3321, weight_kg#3322, nationality_name#3333, club_name#3324, league_name#3325, league_level#3326, potential#3316, value_eur#3317, wage_eur#3318, player_positions#3314, version#3420 AS version#3845, gender#3703]\n               +- Project [sofifa_id#3310, version#3420, short_name#3312, overall#3315, player_url#3311, age#3319, dob#3320, height_cm#3321, weight_kg#3322, nationality_name#3333, club_name#3324, league_name#3325, league_level#3326, potential#3316, value_eur#3317, wage_eur#3318, player_positions#3314, version#3420, female AS gender#3703]\n                  +- Project [sofifa_id#3310, version#3420, short_name#3312, overall#3315, player_url#3311, age#3319, dob#3320, height_cm#3321, weight_kg#3322, nationality_name#3333, club_name#3324, league_name#3325, league_level#3326, potential#3316, value_eur#3317, wage_eur#3318, player_positions#3314, version#3420]\n                     +- Relation [_c0#3309,sofifa_id#3310,player_url#3311,short_name#3312,long_name#3313,player_positions#3314,overall#3315,potential#3316,value_eur#3317,wage_eur#3318,age#3319,dob#3320,height_cm#3321,weight_kg#3322,club_team_id#3323,club_name#3324,league_name#3325,league_level#3326,club_position#3327,club_jersey_number#3328,club_loaned_from#3329,club_joined#3330,club_contract_valid_until#3331,nationality_id#3332,... 88 more fields] csv\n"
     ]
    }
   ],
   "source": [
    "# Best Team in each fifa (considering the 11 top players)\n",
    "\n",
    "df_best_teams = spark.sql(\"\"\"\n",
    "\n",
    "SELECT version, club_name, overall\n",
    "FROM fifa WHERE club_name IN\n",
    "( SELECT club_name, SUM(overall)\n",
    "  FROM fifa\n",
    "  GROUP BY club_name\n",
    ")\n",
    "\n",
    "\"\"\").show()\n",
    "\n",
    "# Best Nation (ALSO FOR POTENTIAL) in each fifa male and female\n",
    "\n",
    "# top player female\n",
    "\n",
    "# Best team in each fifa male and female\n",
    "\n",
    "# SE CE TEMPO WAGE INCREASE"
   ]
  },
  {
   "cell_type": "code",
   "execution_count": 80,
   "id": "2ebc7e93-f2fe-4c06-a985-cf797349b984",
   "metadata": {},
   "outputs": [
    {
     "ename": "AnalysisException",
     "evalue": "Column 'team' does not exist. Did you mean one of the following? [fifa.age, fifa.dob, fifa.gender, fifa.overall, fifa.potential, fifa.version, fifa.version, fifa.club_name, fifa.height_cm, fifa.short_name, fifa.wage_eur, fifa.league_name, fifa.sofifa_id, fifa.value_eur, fifa.weight_kg, fifa.player_url, fifa.league_level, fifa.nationality_name, fifa.player_positions]; line 3 pos 7;\n'Aggregate ['team], ['team, max(overall#3074) AS max(overall)#5349]\n+- SubqueryAlias fifa\n   +- View (`fifa`, [sofifa_id#3069,version#3179,short_name#3071,overall#3074,player_url#3070,age#3078,dob#3079,height_cm#3080,weight_kg#3081,nationality_name#3092,club_name#3083,league_name#3084,league_level#3846,potential#3075,value_eur#3076,wage_eur#3077,player_positions#3073,version#3844,gender#3683])\n      +- Union false, false\n         :- Project [sofifa_id#3069, version#3179, short_name#3071, overall#3074, player_url#3070, age#3078, dob#3079, height_cm#3080, weight_kg#3081, nationality_name#3092, club_name#3083, league_name#3084, cast(league_level#3085 as string) AS league_level#3846, potential#3075, value_eur#3076, wage_eur#3077, player_positions#3073, version#3844, gender#3683]\n         :  +- Project [sofifa_id#3069, version#3179, short_name#3071, overall#3074, player_url#3070, age#3078, dob#3079, height_cm#3080, weight_kg#3081, nationality_name#3092, club_name#3083, league_name#3084, league_level#3085, potential#3075, value_eur#3076, wage_eur#3077, player_positions#3073, version#3179 AS version#3844, gender#3683]\n         :     +- Project [sofifa_id#3069, version#3179, short_name#3071, overall#3074, player_url#3070, age#3078, dob#3079, height_cm#3080, weight_kg#3081, nationality_name#3092, club_name#3083, league_name#3084, league_level#3085, potential#3075, value_eur#3076, wage_eur#3077, player_positions#3073, version#3179, male AS gender#3683]\n         :        +- Project [sofifa_id#3069, version#3179, short_name#3071, overall#3074, player_url#3070, age#3078, dob#3079, height_cm#3080, weight_kg#3081, nationality_name#3092, club_name#3083, league_name#3084, league_level#3085, potential#3075, value_eur#3076, wage_eur#3077, player_positions#3073, version#3179]\n         :           +- Relation [_c0#3068,sofifa_id#3069,player_url#3070,short_name#3071,long_name#3072,player_positions#3073,overall#3074,potential#3075,value_eur#3076,wage_eur#3077,age#3078,dob#3079,height_cm#3080,weight_kg#3081,club_team_id#3082,club_name#3083,league_name#3084,league_level#3085,club_position#3086,club_jersey_number#3087,club_loaned_from#3088,club_joined#3089,club_contract_valid_until#3090,nationality_id#3091,... 88 more fields] csv\n         +- Project [sofifa_id#3310, version#3420, short_name#3312, overall#3315, player_url#3311, age#3319, dob#3320, height_cm#3321, weight_kg#3322, nationality_name#3333, club_name#3324, league_name#3325, league_level#3326, potential#3316, value_eur#3317, wage_eur#3318, player_positions#3314, version#3420 AS version#3845, gender#3703]\n            +- Project [sofifa_id#3310, version#3420, short_name#3312, overall#3315, player_url#3311, age#3319, dob#3320, height_cm#3321, weight_kg#3322, nationality_name#3333, club_name#3324, league_name#3325, league_level#3326, potential#3316, value_eur#3317, wage_eur#3318, player_positions#3314, version#3420, female AS gender#3703]\n               +- Project [sofifa_id#3310, version#3420, short_name#3312, overall#3315, player_url#3311, age#3319, dob#3320, height_cm#3321, weight_kg#3322, nationality_name#3333, club_name#3324, league_name#3325, league_level#3326, potential#3316, value_eur#3317, wage_eur#3318, player_positions#3314, version#3420]\n                  +- Relation [_c0#3309,sofifa_id#3310,player_url#3311,short_name#3312,long_name#3313,player_positions#3314,overall#3315,potential#3316,value_eur#3317,wage_eur#3318,age#3319,dob#3320,height_cm#3321,weight_kg#3322,club_team_id#3323,club_name#3324,league_name#3325,league_level#3326,club_position#3327,club_jersey_number#3328,club_loaned_from#3329,club_joined#3330,club_contract_valid_until#3331,nationality_id#3332,... 88 more fields] csv\n",
     "output_type": "error",
     "traceback": [
      "\u001b[0;31m---------------------------------------------------------------------------\u001b[0m",
      "\u001b[0;31mAnalysisException\u001b[0m                         Traceback (most recent call last)",
      "Cell \u001b[0;32mIn[80], line 3\u001b[0m\n\u001b[1;32m      1\u001b[0m \u001b[38;5;66;03m# Best Team in each fifa (considering the 11 top players)\u001b[39;00m\n\u001b[0;32m----> 3\u001b[0m df_best_teams \u001b[38;5;241m=\u001b[39m \u001b[43mspark\u001b[49m\u001b[38;5;241;43m.\u001b[39;49m\u001b[43msql\u001b[49m\u001b[43m(\u001b[49m\u001b[38;5;124;43m\"\"\"\u001b[39;49m\n\u001b[1;32m      4\u001b[0m \n\u001b[1;32m      5\u001b[0m \u001b[38;5;124;43mSELECT team, MAX(overall)\u001b[39;49m\n\u001b[1;32m      6\u001b[0m \u001b[38;5;124;43m  FROM fifa\u001b[39;49m\n\u001b[1;32m      7\u001b[0m \u001b[38;5;124;43m  GROUP BY team\u001b[39;49m\n\u001b[1;32m      8\u001b[0m \n\u001b[1;32m      9\u001b[0m \n\u001b[1;32m     10\u001b[0m \u001b[38;5;124;43m\"\"\"\u001b[39;49m\u001b[43m)\u001b[49m\n",
      "File \u001b[0;32m~/spark/spark-3.3.4-bin-hadoop3/python/pyspark/sql/session.py:1034\u001b[0m, in \u001b[0;36mSparkSession.sql\u001b[0;34m(self, sqlQuery, **kwargs)\u001b[0m\n\u001b[1;32m   1032\u001b[0m     sqlQuery \u001b[38;5;241m=\u001b[39m formatter\u001b[38;5;241m.\u001b[39mformat(sqlQuery, \u001b[38;5;241m*\u001b[39m\u001b[38;5;241m*\u001b[39mkwargs)\n\u001b[1;32m   1033\u001b[0m \u001b[38;5;28;01mtry\u001b[39;00m:\n\u001b[0;32m-> 1034\u001b[0m     \u001b[38;5;28;01mreturn\u001b[39;00m DataFrame(\u001b[38;5;28;43mself\u001b[39;49m\u001b[38;5;241;43m.\u001b[39;49m\u001b[43m_jsparkSession\u001b[49m\u001b[38;5;241;43m.\u001b[39;49m\u001b[43msql\u001b[49m\u001b[43m(\u001b[49m\u001b[43msqlQuery\u001b[49m\u001b[43m)\u001b[49m, \u001b[38;5;28mself\u001b[39m)\n\u001b[1;32m   1035\u001b[0m \u001b[38;5;28;01mfinally\u001b[39;00m:\n\u001b[1;32m   1036\u001b[0m     \u001b[38;5;28;01mif\u001b[39;00m \u001b[38;5;28mlen\u001b[39m(kwargs) \u001b[38;5;241m>\u001b[39m \u001b[38;5;241m0\u001b[39m:\n",
      "File \u001b[0;32m~/spark/spark-3.3.4-bin-hadoop3/python/lib/py4j-0.10.9.5-src.zip/py4j/java_gateway.py:1321\u001b[0m, in \u001b[0;36mJavaMember.__call__\u001b[0;34m(self, *args)\u001b[0m\n\u001b[1;32m   1315\u001b[0m command \u001b[38;5;241m=\u001b[39m proto\u001b[38;5;241m.\u001b[39mCALL_COMMAND_NAME \u001b[38;5;241m+\u001b[39m\\\n\u001b[1;32m   1316\u001b[0m     \u001b[38;5;28mself\u001b[39m\u001b[38;5;241m.\u001b[39mcommand_header \u001b[38;5;241m+\u001b[39m\\\n\u001b[1;32m   1317\u001b[0m     args_command \u001b[38;5;241m+\u001b[39m\\\n\u001b[1;32m   1318\u001b[0m     proto\u001b[38;5;241m.\u001b[39mEND_COMMAND_PART\n\u001b[1;32m   1320\u001b[0m answer \u001b[38;5;241m=\u001b[39m \u001b[38;5;28mself\u001b[39m\u001b[38;5;241m.\u001b[39mgateway_client\u001b[38;5;241m.\u001b[39msend_command(command)\n\u001b[0;32m-> 1321\u001b[0m return_value \u001b[38;5;241m=\u001b[39m \u001b[43mget_return_value\u001b[49m\u001b[43m(\u001b[49m\n\u001b[1;32m   1322\u001b[0m \u001b[43m    \u001b[49m\u001b[43manswer\u001b[49m\u001b[43m,\u001b[49m\u001b[43m \u001b[49m\u001b[38;5;28;43mself\u001b[39;49m\u001b[38;5;241;43m.\u001b[39;49m\u001b[43mgateway_client\u001b[49m\u001b[43m,\u001b[49m\u001b[43m \u001b[49m\u001b[38;5;28;43mself\u001b[39;49m\u001b[38;5;241;43m.\u001b[39;49m\u001b[43mtarget_id\u001b[49m\u001b[43m,\u001b[49m\u001b[43m \u001b[49m\u001b[38;5;28;43mself\u001b[39;49m\u001b[38;5;241;43m.\u001b[39;49m\u001b[43mname\u001b[49m\u001b[43m)\u001b[49m\n\u001b[1;32m   1324\u001b[0m \u001b[38;5;28;01mfor\u001b[39;00m temp_arg \u001b[38;5;129;01min\u001b[39;00m temp_args:\n\u001b[1;32m   1325\u001b[0m     temp_arg\u001b[38;5;241m.\u001b[39m_detach()\n",
      "File \u001b[0;32m~/spark/spark-3.3.4-bin-hadoop3/python/pyspark/sql/utils.py:196\u001b[0m, in \u001b[0;36mcapture_sql_exception.<locals>.deco\u001b[0;34m(*a, **kw)\u001b[0m\n\u001b[1;32m    192\u001b[0m converted \u001b[38;5;241m=\u001b[39m convert_exception(e\u001b[38;5;241m.\u001b[39mjava_exception)\n\u001b[1;32m    193\u001b[0m \u001b[38;5;28;01mif\u001b[39;00m \u001b[38;5;129;01mnot\u001b[39;00m \u001b[38;5;28misinstance\u001b[39m(converted, UnknownException):\n\u001b[1;32m    194\u001b[0m     \u001b[38;5;66;03m# Hide where the exception came from that shows a non-Pythonic\u001b[39;00m\n\u001b[1;32m    195\u001b[0m     \u001b[38;5;66;03m# JVM exception message.\u001b[39;00m\n\u001b[0;32m--> 196\u001b[0m     \u001b[38;5;28;01mraise\u001b[39;00m converted \u001b[38;5;28;01mfrom\u001b[39;00m \u001b[38;5;28;01mNone\u001b[39;00m\n\u001b[1;32m    197\u001b[0m \u001b[38;5;28;01melse\u001b[39;00m:\n\u001b[1;32m    198\u001b[0m     \u001b[38;5;28;01mraise\u001b[39;00m\n",
      "\u001b[0;31mAnalysisException\u001b[0m: Column 'team' does not exist. Did you mean one of the following? [fifa.age, fifa.dob, fifa.gender, fifa.overall, fifa.potential, fifa.version, fifa.version, fifa.club_name, fifa.height_cm, fifa.short_name, fifa.wage_eur, fifa.league_name, fifa.sofifa_id, fifa.value_eur, fifa.weight_kg, fifa.player_url, fifa.league_level, fifa.nationality_name, fifa.player_positions]; line 3 pos 7;\n'Aggregate ['team], ['team, max(overall#3074) AS max(overall)#5349]\n+- SubqueryAlias fifa\n   +- View (`fifa`, [sofifa_id#3069,version#3179,short_name#3071,overall#3074,player_url#3070,age#3078,dob#3079,height_cm#3080,weight_kg#3081,nationality_name#3092,club_name#3083,league_name#3084,league_level#3846,potential#3075,value_eur#3076,wage_eur#3077,player_positions#3073,version#3844,gender#3683])\n      +- Union false, false\n         :- Project [sofifa_id#3069, version#3179, short_name#3071, overall#3074, player_url#3070, age#3078, dob#3079, height_cm#3080, weight_kg#3081, nationality_name#3092, club_name#3083, league_name#3084, cast(league_level#3085 as string) AS league_level#3846, potential#3075, value_eur#3076, wage_eur#3077, player_positions#3073, version#3844, gender#3683]\n         :  +- Project [sofifa_id#3069, version#3179, short_name#3071, overall#3074, player_url#3070, age#3078, dob#3079, height_cm#3080, weight_kg#3081, nationality_name#3092, club_name#3083, league_name#3084, league_level#3085, potential#3075, value_eur#3076, wage_eur#3077, player_positions#3073, version#3179 AS version#3844, gender#3683]\n         :     +- Project [sofifa_id#3069, version#3179, short_name#3071, overall#3074, player_url#3070, age#3078, dob#3079, height_cm#3080, weight_kg#3081, nationality_name#3092, club_name#3083, league_name#3084, league_level#3085, potential#3075, value_eur#3076, wage_eur#3077, player_positions#3073, version#3179, male AS gender#3683]\n         :        +- Project [sofifa_id#3069, version#3179, short_name#3071, overall#3074, player_url#3070, age#3078, dob#3079, height_cm#3080, weight_kg#3081, nationality_name#3092, club_name#3083, league_name#3084, league_level#3085, potential#3075, value_eur#3076, wage_eur#3077, player_positions#3073, version#3179]\n         :           +- Relation [_c0#3068,sofifa_id#3069,player_url#3070,short_name#3071,long_name#3072,player_positions#3073,overall#3074,potential#3075,value_eur#3076,wage_eur#3077,age#3078,dob#3079,height_cm#3080,weight_kg#3081,club_team_id#3082,club_name#3083,league_name#3084,league_level#3085,club_position#3086,club_jersey_number#3087,club_loaned_from#3088,club_joined#3089,club_contract_valid_until#3090,nationality_id#3091,... 88 more fields] csv\n         +- Project [sofifa_id#3310, version#3420, short_name#3312, overall#3315, player_url#3311, age#3319, dob#3320, height_cm#3321, weight_kg#3322, nationality_name#3333, club_name#3324, league_name#3325, league_level#3326, potential#3316, value_eur#3317, wage_eur#3318, player_positions#3314, version#3420 AS version#3845, gender#3703]\n            +- Project [sofifa_id#3310, version#3420, short_name#3312, overall#3315, player_url#3311, age#3319, dob#3320, height_cm#3321, weight_kg#3322, nationality_name#3333, club_name#3324, league_name#3325, league_level#3326, potential#3316, value_eur#3317, wage_eur#3318, player_positions#3314, version#3420, female AS gender#3703]\n               +- Project [sofifa_id#3310, version#3420, short_name#3312, overall#3315, player_url#3311, age#3319, dob#3320, height_cm#3321, weight_kg#3322, nationality_name#3333, club_name#3324, league_name#3325, league_level#3326, potential#3316, value_eur#3317, wage_eur#3318, player_positions#3314, version#3420]\n                  +- Relation [_c0#3309,sofifa_id#3310,player_url#3311,short_name#3312,long_name#3313,player_positions#3314,overall#3315,potential#3316,value_eur#3317,wage_eur#3318,age#3319,dob#3320,height_cm#3321,weight_kg#3322,club_team_id#3323,club_name#3324,league_name#3325,league_level#3326,club_position#3327,club_jersey_number#3328,club_loaned_from#3329,club_joined#3330,club_contract_valid_until#3331,nationality_id#3332,... 88 more fields] csv\n"
     ]
    }
   ],
   "source": [
    "# Best Team in each fifa (considering the 11 top players)\n",
    "\n",
    "df_best_teams = spark.sql(\"\"\"\n",
    "\n",
    "SELECT version, team\n",
    "FROM fifa WHERE (version, team) IN\n",
    "( SELECT tea, MAX(overall)\n",
    "  FROM fifa\n",
    "  GROUP BY team\n",
    ")\n",
    "\n",
    "\"\"\")"
   ]
  },
  {
   "cell_type": "code",
   "execution_count": 50,
   "id": "c430e3f9-8948-4040-bb08-c6c395cf8a9b",
   "metadata": {},
   "outputs": [
    {
     "name": "stdout",
     "output_type": "stream",
     "text": [
      "dataset\t\t\t fifa-dataset-male.csv\n",
      "fifa-dataset-female.csv  spark_transformation_local_test.ipynb\n"
     ]
    }
   ],
   "source": [
    "!ls"
   ]
  },
  {
   "cell_type": "code",
   "execution_count": null,
   "id": "2a73816a-2d77-41c7-bc88-06a639e29f94",
   "metadata": {},
   "outputs": [],
   "source": [
    "schema = types.StructType([\n",
    "    types.StructField('sofifa_id', types.IntegerType(), True),\n",
    "    types.StructField('version', types.IntegerType(), True),\n",
    "    types.StructField('short_name', types.StringType(), True),\n",
    "    types.StructField('overall', types.IntegerType(), True),\n",
    "    types.StructField('player_url', types.StringType(), True),\n",
    "    types.StructField('age', types.IntegerType(), True),\n",
    "    types.StructField('dob', types.DateType(), True),\n",
    "    types.StructField('height_cm', types.IntegerType(), True),\n",
    "    types.StructField('weight_kg', types.IntegerType(), True),\n",
    "    types.StructField('nationality_name', types.StringType(), True),\n",
    "    types.StructField('league_name', types.StringType(), True),\n",
    "    types.StructField('league_level', types.IntegerType(), True),\n",
    "    types.StructField('potential', types.IntegerType(), True),\n",
    "    types.StructField('value_eur', types.IntegerType(), True),\n",
    "    types.StructField('wage_eur', types.IntegerType(), True),\n",
    "    types.StructField('player_positions', types.StringType(), True)\n",
    "])"
   ]
  },
  {
   "cell_type": "code",
   "execution_count": null,
   "id": "55582a4e-18ca-420f-b793-4503d622645a",
   "metadata": {},
   "outputs": [],
   "source": [
    "spark.stop()"
   ]
  }
 ],
 "metadata": {
  "kernelspec": {
   "display_name": "Python 3 (ipykernel)",
   "language": "python",
   "name": "python3"
  },
  "language_info": {
   "codemirror_mode": {
    "name": "ipython",
    "version": 3
   },
   "file_extension": ".py",
   "mimetype": "text/x-python",
   "name": "python",
   "nbconvert_exporter": "python",
   "pygments_lexer": "ipython3",
   "version": "3.11.5"
  }
 },
 "nbformat": 4,
 "nbformat_minor": 5
}
